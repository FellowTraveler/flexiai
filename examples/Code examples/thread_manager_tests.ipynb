{
 "cells": [
  {
   "cell_type": "code",
   "execution_count": 1,
   "metadata": {},
   "outputs": [
    {
     "name": "stdout",
     "output_type": "stream",
     "text": [
      "Current Directory: /home/razvansavin/Proiecte/flexiai/examples/Code examples\n",
      "Changed Directory to: /home/razvansavin/Proiecte/flexiai\n",
      "Project root added to sys.path\n"
     ]
    }
   ],
   "source": [
    "import sys\n",
    "import os\n",
    "\n",
    "# Check current working directory\n",
    "current_dir = os.getcwd()\n",
    "print(f\"Current Directory: {current_dir}\")\n",
    "\n",
    "# Change to your project root directory\n",
    "project_root = '/home/razvansavin/Proiecte/flexiai'\n",
    "os.chdir(project_root)\n",
    "print(f\"Changed Directory to: {os.getcwd()}\")\n",
    "\n",
    "# Add project root directory to sys.path\n",
    "sys.path.append(project_root)\n",
    "print(f\"Project root added to sys.path\")"
   ]
  },
  {
   "cell_type": "code",
   "execution_count": 2,
   "metadata": {},
   "outputs": [],
   "source": [
    "# Imports and Initialization\n",
    "import json\n",
    "import logging\n",
    "from flexiai.core.flexiai_client import FlexiAI\n",
    "from flexiai.config.logging_config import setup_logging\n",
    "from flexiai.core.utils.helpers import HelperFunctions\n",
    "\n",
    "# Set up logging\n",
    "setup_logging()\n",
    "\n",
    "# Initialize FlexiAI\n",
    "flexiai = FlexiAI()\n",
    "\n",
    "# Use the given assistant ID\n",
    "assistant_id = 'asst_bxt62YG46C5wn4t5U1ESqJZf'  # ALFA\n",
    "\n",
    "# Initialize variables to store messages\n",
    "all_messages = []\n",
    "last_retrieved_id = None"
   ]
  },
  {
   "cell_type": "code",
   "execution_count": 3,
   "metadata": {},
   "outputs": [
    {
     "name": "stdout",
     "output_type": "stream",
     "text": [
      "Test Case: Create thread\n",
      "{\n",
      "    \"id\": \"thread_d5JlX7QeqF1IfyD8kXRpYFlN\",\n",
      "    \"created_at\": 1721660863,\n",
      "    \"metadata\": {},\n",
      "    \"object\": \"thread\",\n",
      "    \"tool_resources\": {\n",
      "        \"code_interpreter\": null,\n",
      "        \"file_search\": null\n",
      "    }\n",
      "}\n",
      "Thread ID: thread_d5JlX7QeqF1IfyD8kXRpYFlN\n"
     ]
    }
   ],
   "source": [
    "# Create a new thread\n",
    "print(\"Test Case: Create thread\")\n",
    "new_thread = flexiai.create_thread()\n",
    "HelperFunctions.show_json(new_thread)\n",
    "thread_id = new_thread.id\n",
    "print(f\"Thread ID: {thread_id}\")"
   ]
  },
  {
   "cell_type": "code",
   "execution_count": 4,
   "metadata": {},
   "outputs": [
    {
     "name": "stdout",
     "output_type": "stream",
     "text": [
      "Test Case: Retrieve thread\n",
      "{\n",
      "    \"id\": \"thread_d5JlX7QeqF1IfyD8kXRpYFlN\",\n",
      "    \"created_at\": 1721660863,\n",
      "    \"metadata\": {},\n",
      "    \"object\": \"thread\",\n",
      "    \"tool_resources\": {\n",
      "        \"code_interpreter\": {\n",
      "            \"file_ids\": []\n",
      "        },\n",
      "        \"file_search\": null\n",
      "    }\n",
      "}\n"
     ]
    }
   ],
   "source": [
    "# Retrieve a specific thread\n",
    "print(\"Test Case: Retrieve thread\")\n",
    "retrieved_thread = flexiai.retrieve_thread(thread_id=thread_id)\n",
    "HelperFunctions.show_json(retrieved_thread)\n"
   ]
  },
  {
   "cell_type": "code",
   "execution_count": 5,
   "metadata": {},
   "outputs": [
    {
     "name": "stdout",
     "output_type": "stream",
     "text": [
      "Test Case: Update thread\n",
      "{\n",
      "    \"id\": \"thread_d5JlX7QeqF1IfyD8kXRpYFlN\",\n",
      "    \"created_at\": 1721660863,\n",
      "    \"metadata\": {\n",
      "        \"updated\": \"true\"\n",
      "    },\n",
      "    \"object\": \"thread\",\n",
      "    \"tool_resources\": {\n",
      "        \"code_interpreter\": null,\n",
      "        \"file_search\": null\n",
      "    }\n",
      "}\n"
     ]
    }
   ],
   "source": [
    "# Update a thread\n",
    "print(\"Test Case: Update thread\")\n",
    "metadata = {\"updated\": \"true\"}\n",
    "updated_thread = flexiai.update_thread(thread_id=thread_id, metadata=metadata)\n",
    "HelperFunctions.show_json(updated_thread)"
   ]
  },
  {
   "cell_type": "code",
   "execution_count": 6,
   "metadata": {},
   "outputs": [
    {
     "name": "stdout",
     "output_type": "stream",
     "text": [
      "Test Case: Attach assistant to thread\n",
      "{\n",
      "    \"id\": \"run_RdIbrSSHjxoYqowIVDzYrouR\",\n",
      "    \"assistant_id\": \"asst_bxt62YG46C5wn4t5U1ESqJZf\",\n",
      "    \"cancelled_at\": null,\n",
      "    \"completed_at\": null,\n",
      "    \"created_at\": 1721660864,\n",
      "    \"expires_at\": 1721661464,\n",
      "    \"failed_at\": null,\n",
      "    \"incomplete_details\": null,\n",
      "    \"instructions\": \"Introduction\\n\\nYou are Assistant Alpha, a generalist assistant designed to handle a wide range of user requests. One of your key functions is to perform YouTube searches on user request using the 'search_youtube' function.\\n\\nWorkflow\\n\\nGeneral Inquiries\\n\\nHandling General Inquiries: Address user queries, providing information, support, and resources as needed.\\n\\nFunction-Specific Instructions\\n\\nFunction 'search_youtube':\\n\\nDescription: This function triggers a YouTube search in the default web browser using a specified search query. It constructs a URL with the encoded search terms and opens it directly in the browser.\\nParameters:\\n\\n    'query': A string representing the search terms to be used in the YouTube search.\\n\\nSteps:\\n\\n    Receive the search query from the user.\\n    Construct the YouTube search URL using the provided query.\\n    Open the constructed URL in the default web browser.\\n\\nConfirmation: Ensure user confirmation before proceeding with the search.\\n\\nFunction 'save_processed_content':\\n\\nDescription: Saves the processed user content using the 'from_assistant_id' and 'to_assistant_id'. Use your assistant ID for the 'from_assistant_id' parameter and the target agent's assistant ID for the 'to_assistant_id' parameter to save processed content for another agent.\\nParameters:\\n\\n    'from_assistant_id': The assistant identifier from which the content originates. Use your assistant ID to fill this parameter when saving processed content.\\n    'to_assistant_id': The assistant identifier to which the content is directed. Fill this with the target agent's assistant ID to store content for them.\\n    'processed_content': The processed content to store. This is the actual data that needs to be saved.\\n\\nSteps:\\n\\n    Receive the 'from_assistant_id', 'to_assistant_id', and 'processed_content' from the user.\\n    Validate the input parameters to ensure they are not empty.\\n    Save the processed content using the provided parameters.\\n\\nFunction 'load_processed_content':\\n\\nDescription: Loads the stored processed user content using the 'from_assistant_id' and 'to_assistant_id'. Optionally retrieves content from all assistants if 'multiple_retrieval' is True. To retrieve all data sent to your assistant ID from multiple agents, set 'multiple_retrieval' to True and use your assistant ID for the 'to_assistant_id' parameter. You can choose any assistant ID for the 'from_assistant_id' parameter in this case.\\nParameters:\\n\\n    'from_assistant_id': The assistant identifier from which the content originates. This should be the ID of the assistant whose content you want to retrieve. If 'multiple_retrieval' is True, you can use any assistant ID.\\n    'to_assistant_id': The assistant identifier to which the content is directed. Use your assistant ID to fill this parameter to retrieve data sent to you.\\n    'multiple_retrieval': Whether to retrieve content from all sources, not just the specified 'to_assistant_id'. Set this parameter to True to retrieve all data stored by multiple agents for you.\\n\\nSteps:\\n\\n    Receive the 'from_assistant_id', 'to_assistant_id', and 'multiple_retrieval' parameters from the user.\\n    Validate the input parameters to ensure they are not empty.\\n    Load the processed content using the provided parameters.\\n\\nFunction 'communicate_with_assistant':\\n\\nDescription: This function allows your assistant to communicate with another assistant using the specified 'assistant_id' and deliver the user content to the target assistant.\\nParameters:\\n\\n    'assistant_id': The assistant identifier of the agent you want to contact. This should be the ID of the target assistant.\\n    'user_content': The content provided by the user that needs to be delivered to the target assistant.\\n\\nSteps:\\n\\n    Receive the 'assistant_id' and 'user_content' parameters from the user.\\n    Validate the input parameters to ensure they are not empty.\\n    Deliver the user content to the specified assistant using the provided parameters.\\n    Ensure to pass the user content as \\\"User requested and complete details of the task..\\\" to make a professional request and mention that it includes the user request and all details.\\n    After delivering the content, automatically use the 'load_processed_content' function to retrieve the response from the target assistant.\\n    Display the retrieved user processed content in a nice format to the user.\\n\\nFunction 'initialize_agent':\\n\\nDescription: Initialize an agent from the contact list using the specified assistant_id. The assistant is not allowed to use its own ID for this function.\\nParameters:\\n\\n    'assistant_id': The assistant identifier of the agent you want to initiate. You cannot use your own assistant ID.\\n\\nSteps:\\n\\n    Receive the agent's name from the user.\\n    Check the contact list to find the assistant_id corresponding to the requested agent's name.\\n    Validate that the 'assistant_id' is not your own ID.\\n    Initialize the specified agent using the retrieved 'assistant_id'.\\n\\nAdditional Instructions\\n\\nUsing 'communicate_with_assistant' and 'load_processed_content' Functions:\\n\\n    When you want to fulfill a request from a user and need to call a specialized agent/assistant, use the 'communicate_with_assistant' function with the target assistant's ID and deliver the user task or information without altering it.\\n    Automatically use the 'load_processed_content' function to load the 'user_content' from that agent/assistant immediately after using 'communicate_with_assistant'. Then deliver the user content for processing and respond to the user with the retrieved data.\\n    Professional Request Handling: When calling any Agent, pass in user content as \\\"User requested and complete details of the task..\\\" to make a professional request and mention the user requested and all details.\\n    Formatting Retrieved Content: When you retrieve user processed content, display it in a clear and organized format, ensuring it is easy to read and understand.\\n\\nImportant Instructions\\n\\n    Precision and Data Accuracy: Ensure precision and accuracy when filling all parameters for any function. Validate and double-check the data to maintain high quality and correctness. This is crucial for the proper execution of tasks and to ensure the integrity of the data being processed.\\n    Confirmation for Actions: Wait for user confirmation before initiating actions.\\n    Professionalism and Responsiveness: Maintain a professional tone and address queries promptly.\\n    Final Steps: Conclude interactions politely and encourage future contact.\\n\\nContact List\\n\\n    Your assistant ID: 'asst_bxt62YG46C5wn4t5U1ESqJZf'\\n    Beta One assistant ID: 'asst_d3bHTEXEKWfBhTJtPEZN63aK'\\n    Beta Two assistant ID: 'asst_mb9RLOyRa0jzQMQ6nc1KmL8Q'\\n    Gamma assistant ID: 'asst_RQehgdfCT83O1cB7uv8bdAqH'\\n\\nGeneral Guidelines\\n\\n    Professionalism: Maintain a professional tone.\\n    Responsiveness: Address queries promptly and accurately.\\n    Clarity: Provide clear and concise information.\\n    Adaptability: Handle a wide range of queries and requests.\\n\\nConclusion\\n\\nPrecision and data accuracy are paramount for the efficient and effective performance of tasks. Assistant Alpha must ensure that all parameters are filled with precision and accuracy, validate data meticulously, and maintain high standards of data integrity. By adhering to these guidelines, Alpha can provide reliable and satisfactory service, adapting to evolving user needs while ensuring data accuracy and precision at all times.\",\n",
      "    \"last_error\": null,\n",
      "    \"max_completion_tokens\": null,\n",
      "    \"max_prompt_tokens\": null,\n",
      "    \"metadata\": {},\n",
      "    \"model\": \"gpt-4o-mini\",\n",
      "    \"object\": \"thread.run\",\n",
      "    \"parallel_tool_calls\": true,\n",
      "    \"required_action\": null,\n",
      "    \"response_format\": \"auto\",\n",
      "    \"started_at\": null,\n",
      "    \"status\": \"queued\",\n",
      "    \"thread_id\": \"thread_d5JlX7QeqF1IfyD8kXRpYFlN\",\n",
      "    \"tool_choice\": \"auto\",\n",
      "    \"tools\": [\n",
      "        {\n",
      "            \"function\": {\n",
      "                \"name\": \"save_processed_content\",\n",
      "                \"description\": \"Saves the processed user content using the from_assistant_id and to_assistant_id. Use your assistant ID for the from_assistant_id parameter and the target agent's assistant ID for the to_assistant_id parameter to save processed content for another agent.\",\n",
      "                \"parameters\": {\n",
      "                    \"type\": \"object\",\n",
      "                    \"properties\": {\n",
      "                        \"from_assistant_id\": {\n",
      "                            \"type\": \"string\",\n",
      "                            \"description\": \"The assistant identifier from which the content originates. Use your assistant ID to fill this parameter when saving processed content.\",\n",
      "                            \"optional\": false\n",
      "                        },\n",
      "                        \"to_assistant_id\": {\n",
      "                            \"type\": \"string\",\n",
      "                            \"description\": \"The assistant identifier to which the content is directed. Fill this with the target agent's assistant ID to store content for them.\",\n",
      "                            \"optional\": false\n",
      "                        },\n",
      "                        \"processed_content\": {\n",
      "                            \"type\": \"string\",\n",
      "                            \"description\": \"The processed content to store. This is the actual data that needs to be saved.\",\n",
      "                            \"optional\": false\n",
      "                        }\n",
      "                    },\n",
      "                    \"required\": [\n",
      "                        \"from_assistant_id\",\n",
      "                        \"to_assistant_id\",\n",
      "                        \"processed_content\"\n",
      "                    ]\n",
      "                }\n",
      "            },\n",
      "            \"type\": \"function\"\n",
      "        },\n",
      "        {\n",
      "            \"function\": {\n",
      "                \"name\": \"load_processed_content\",\n",
      "                \"description\": \"Loads the stored processed user content using the from_assistant_id and to_assistant_id. To retrieve all data sent to your assistant ID from multiple agents, set multiple_retrieval to True and use your assistant ID for the to_assistant_id parameter. You can choose any assistant ID for the from_assistant_id parameter in this case.\",\n",
      "                \"parameters\": {\n",
      "                    \"type\": \"object\",\n",
      "                    \"properties\": {\n",
      "                        \"from_assistant_id\": {\n",
      "                            \"type\": \"string\",\n",
      "                            \"description\": \"The assistant identifier from which the content originates. This should be the ID of the assistant whose content you want to retrieve. If multiple_retrieval is True, you can use any assistant ID.\",\n",
      "                            \"optional\": false\n",
      "                        },\n",
      "                        \"to_assistant_id\": {\n",
      "                            \"type\": \"string\",\n",
      "                            \"description\": \"The assistant identifier to which the content is directed. Use your assistant ID to fill this parameter to retrieve data sent to you.\",\n",
      "                            \"optional\": false\n",
      "                        },\n",
      "                        \"multiple_retrieval\": {\n",
      "                            \"type\": \"boolean\",\n",
      "                            \"description\": \"Set this parameter to True to retrieve all data stored by multiple agents for you. This will gather content from all from_assistant_ids directed to your to_assistant_id.\",\n",
      "                            \"optional\": false\n",
      "                        }\n",
      "                    },\n",
      "                    \"required\": [\n",
      "                        \"from_assistant_id\",\n",
      "                        \"to_assistant_id\",\n",
      "                        \"multiple_retrieval\"\n",
      "                    ]\n",
      "                }\n",
      "            },\n",
      "            \"type\": \"function\"\n",
      "        },\n",
      "        {\n",
      "            \"function\": {\n",
      "                \"name\": \"communicate_with_assistant\",\n",
      "                \"description\": \"This function allows your assistant to communicate with another assistant using the specified assistant ID and deliver the user content to the target assistant.\",\n",
      "                \"parameters\": {\n",
      "                    \"type\": \"object\",\n",
      "                    \"properties\": {\n",
      "                        \"assistant_id\": {\n",
      "                            \"type\": \"string\",\n",
      "                            \"description\": \"The assistant identifier of the agent you want to contact. This should be the ID of the target assistant.\",\n",
      "                            \"optional\": false\n",
      "                        },\n",
      "                        \"user_content\": {\n",
      "                            \"type\": \"string\",\n",
      "                            \"description\": \"The content provided by the user that needs to be delivered to the target assistant.\",\n",
      "                            \"optional\": false\n",
      "                        }\n",
      "                    },\n",
      "                    \"required\": [\n",
      "                        \"assistant_id\",\n",
      "                        \"user_content\"\n",
      "                    ]\n",
      "                }\n",
      "            },\n",
      "            \"type\": \"function\"\n",
      "        },\n",
      "        {\n",
      "            \"function\": {\n",
      "                \"name\": \"initialize_agent\",\n",
      "                \"description\": \"Initialize an agent from the contact list using the specified assistant_id. The assistant is not allowed to use its own ID for this function.\",\n",
      "                \"parameters\": {\n",
      "                    \"type\": \"object\",\n",
      "                    \"properties\": {\n",
      "                        \"assistant_id\": {\n",
      "                            \"type\": \"string\",\n",
      "                            \"description\": \"The assistant identifier of the agent you want to initiate. You cannot use your own assistant ID.\",\n",
      "                            \"optional\": false\n",
      "                        }\n",
      "                    },\n",
      "                    \"required\": [\n",
      "                        \"assistant_id\"\n",
      "                    ]\n",
      "                }\n",
      "            },\n",
      "            \"type\": \"function\"\n",
      "        }\n",
      "    ],\n",
      "    \"truncation_strategy\": {\n",
      "        \"type\": \"auto\",\n",
      "        \"last_messages\": null\n",
      "    },\n",
      "    \"usage\": null,\n",
      "    \"temperature\": 0.5,\n",
      "    \"top_p\": 0.8,\n",
      "    \"tool_resources\": {}\n",
      "}\n"
     ]
    }
   ],
   "source": [
    "# Attach an assistant to a thread\n",
    "print(\"Test Case: Attach assistant to thread\")\n",
    "attached_run = flexiai.attach_assistant_to_thread(assistant_id=assistant_id, thread_id=thread_id)\n",
    "HelperFunctions.show_json(attached_run)\n"
   ]
  },
  {
   "cell_type": "code",
   "execution_count": 7,
   "metadata": {},
   "outputs": [
    {
     "name": "stdout",
     "output_type": "stream",
     "text": [
      "Test Case: Delete thread\n",
      "Thread thread_d5JlX7QeqF1IfyD8kXRpYFlN deleted: True\n"
     ]
    }
   ],
   "source": [
    "# Delete a thread\n",
    "print(\"Test Case: Delete thread\")\n",
    "delete_status = flexiai.delete_thread(thread_id=thread_id)\n",
    "print(f\"Thread {thread_id} deleted: {delete_status}\")"
   ]
  }
 ],
 "metadata": {
  "kernelspec": {
   "display_name": ".conda",
   "language": "python",
   "name": "python3"
  },
  "language_info": {
   "codemirror_mode": {
    "name": "ipython",
    "version": 3
   },
   "file_extension": ".py",
   "mimetype": "text/x-python",
   "name": "python",
   "nbconvert_exporter": "python",
   "pygments_lexer": "ipython3",
   "version": "3.11.9"
  }
 },
 "nbformat": 4,
 "nbformat_minor": 2
}
