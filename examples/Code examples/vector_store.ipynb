{
 "cells": [
  {
   "cell_type": "markdown",
   "metadata": {},
   "source": [
    "Initial Setup and Configuration:\n",
    "- Changing and Verifying the Working Directory for Project Setup\n",
    "- This section ensures that your working directory is set to the project root."
   ]
  },
  {
   "cell_type": "code",
   "execution_count": 1,
   "metadata": {},
   "outputs": [
    {
     "name": "stdout",
     "output_type": "stream",
     "text": [
      "Current Directory: /home/razvansavin/Proiecte/flexiai/examples/Code examples\n",
      "Changed Directory to: /home/razvansavin/Proiecte/flexiai\n",
      "Project root added to sys.path\n"
     ]
    }
   ],
   "source": [
    "import sys\n",
    "import os\n",
    "\n",
    "# Check current working directory\n",
    "current_dir = os.getcwd()\n",
    "print(f\"Current Directory: {current_dir}\")\n",
    "\n",
    "# Change to your project root directory\n",
    "project_root = '/home/razvansavin/Proiecte/flexiai'\n",
    "os.chdir(project_root)\n",
    "print(f\"Changed Directory to: {os.getcwd()}\")\n",
    "\n",
    "# Add project root directory to sys.path\n",
    "sys.path.append(project_root)\n",
    "print(f\"Project root added to sys.path\")"
   ]
  },
  {
   "cell_type": "markdown",
   "metadata": {},
   "source": [
    "Step 1: Imports and Initialization"
   ]
  },
  {
   "cell_type": "code",
   "execution_count": 2,
   "metadata": {},
   "outputs": [],
   "source": [
    "# Import necessary libraries and the FlexiAI class\n",
    "from flexiai.core.flexiai_client import FlexiAI\n",
    "\n",
    "# Initialize the FlexiAI instance\n",
    "flexi_ai = FlexiAI()\n"
   ]
  },
  {
   "cell_type": "markdown",
   "metadata": {},
   "source": [
    "Step 2: Create a Vector Store"
   ]
  },
  {
   "cell_type": "code",
   "execution_count": 3,
   "metadata": {},
   "outputs": [
    {
     "name": "stdout",
     "output_type": "stream",
     "text": [
      "Created vector store with ID: vs_heDUFg4vuO06OXzZ8HgIg5A9\n"
     ]
    }
   ],
   "source": [
    "# Create a new vector store\n",
    "try:\n",
    "    vector_store = flexi_ai.create_vector_store(\"Demonstration Vector Store\")\n",
    "    print(f\"Created vector store with ID: {vector_store.id}\")\n",
    "except RuntimeError as e:\n",
    "    print(f\"An error occurred while creating the vector store: {e}\")\n"
   ]
  },
  {
   "cell_type": "markdown",
   "metadata": {},
   "source": [
    "Step 3: Upload Files and Poll for Completion"
   ]
  },
  {
   "cell_type": "code",
   "execution_count": 4,
   "metadata": {},
   "outputs": [
    {
     "name": "stdout",
     "output_type": "stream",
     "text": [
      "File batch vsfb_73520b7fabca4a7dac4009db93b0f6f8 completed successfully\n"
     ]
    }
   ],
   "source": [
    "# Upload files to the vector store and poll for completion\n",
    "file_paths = [\"user_flexiai_rag/data/support-vector-networks.pdf\", \"user_flexiai_rag/data/some_text.txt\"]\n",
    "try:\n",
    "    file_batch = flexi_ai.upload_files_and_poll(vector_store.id, file_paths)\n",
    "    print(f\"File batch {file_batch.id} completed successfully\")\n",
    "except RuntimeError as e:\n",
    "    print(f\"An error occurred while uploading files: {e}\")\n"
   ]
  },
  {
   "cell_type": "markdown",
   "metadata": {},
   "source": [
    "Step 4: Update the Assistant with the New Vector Store"
   ]
  },
  {
   "cell_type": "code",
   "execution_count": 5,
   "metadata": {},
   "outputs": [
    {
     "name": "stdout",
     "output_type": "stream",
     "text": [
      "Updated assistant ID: asst_xLE5fp0kEzfMAc0w2AJdDV9e with vector store ID: vs_heDUFg4vuO06OXzZ8HgIg5A9\n"
     ]
    }
   ],
   "source": [
    "# Update the assistant to use the new vector store\n",
    "assistant_id = \"asst_xLE5fp0kEzfMAc0w2AJdDV9e\"  # Replace with your actual assistant ID\n",
    "try:\n",
    "    updated_assistant = flexi_ai.update_assistant_with_vector_store(assistant_id, vector_store.id)\n",
    "    print(f\"Updated assistant ID: {updated_assistant.id} with vector store ID: {vector_store.id}\")\n",
    "except RuntimeError as e:\n",
    "    print(f\"An error occurred while updating the assistant: {e}\")\n"
   ]
  },
  {
   "cell_type": "markdown",
   "metadata": {},
   "source": [
    "Step 5: List All Vector Stores"
   ]
  },
  {
   "cell_type": "code",
   "execution_count": 6,
   "metadata": {},
   "outputs": [
    {
     "name": "stdout",
     "output_type": "stream",
     "text": [
      "Vector Store ID: vs_heDUFg4vuO06OXzZ8HgIg5A9, Name: Demonstration Vector Store\n",
      "Vector Store ID: vs_Wm9cr6zdrvfnr9rd0sQ5deOY, Name: Demonstration Vector Store\n",
      "Vector Store ID: vs_teAcb7UqkSWdCQmT4CW9lS6I, Name: Alina_VectorStore_001\n"
     ]
    }
   ],
   "source": [
    "# List all vector stores\n",
    "try:\n",
    "    vector_stores = flexi_ai.list_vector_stores()\n",
    "    for vs in vector_stores:\n",
    "        print(f\"Vector Store ID: {vs.id}, Name: {vs.name}\")\n",
    "except RuntimeError as e:\n",
    "    print(f\"An error occurred while listing vector stores: {e}\")"
   ]
  },
  {
   "cell_type": "markdown",
   "metadata": {},
   "source": [
    "Step 6: Retrieve Details of a Specific Vector Store"
   ]
  },
  {
   "cell_type": "code",
   "execution_count": 7,
   "metadata": {},
   "outputs": [
    {
     "name": "stdout",
     "output_type": "stream",
     "text": [
      "Vector Store Details: VectorStore(id='vs_heDUFg4vuO06OXzZ8HgIg5A9', created_at=1720819636, file_counts=FileCounts(cancelled=0, completed=2, failed=0, in_progress=0, total=2), last_active_at=1720819652, metadata={}, name='Demonstration Vector Store', object='vector_store', status='completed', usage_bytes=116663, expires_after=None, expires_at=None)\n"
     ]
    }
   ],
   "source": [
    "# Retrieve details of a specific vector store\n",
    "try:\n",
    "    vector_store_details = flexi_ai.retrieve_vector_store_details(vector_store.id)\n",
    "    print(f\"Vector Store Details: {vector_store_details}\")\n",
    "except RuntimeError as e:\n",
    "    print(f\"An error occurred while retrieving vector store details: {e}\")\n"
   ]
  },
  {
   "cell_type": "markdown",
   "metadata": {},
   "source": [
    "Step 7: List All Files in a Vector Store"
   ]
  },
  {
   "cell_type": "code",
   "execution_count": 8,
   "metadata": {},
   "outputs": [
    {
     "name": "stdout",
     "output_type": "stream",
     "text": [
      "File ID: assistant-fJ40McHJXunNaFnMhVS6r4Ep, Status: completed, Created At: 1720819646\n",
      "File ID: assistant-GZiotRkKJnp80tQCADktMNqu, Status: completed, Created At: 1720819646\n"
     ]
    }
   ],
   "source": [
    "# List all files in a vector store\n",
    "try:\n",
    "    files = flexi_ai.list_files_in_vector_store(vector_store.id, file_batch.id)\n",
    "    for file in files:\n",
    "        print(f\"File ID: {file.id}, Status: {file.status}, Created At: {file.created_at}\")\n",
    "except RuntimeError as e:\n",
    "    print(f\"An error occurred while listing files: {e}\")\n"
   ]
  },
  {
   "cell_type": "markdown",
   "metadata": {},
   "source": [
    "Step 8: Retrieve Details of a Specific File Batch"
   ]
  },
  {
   "cell_type": "code",
   "execution_count": 9,
   "metadata": {},
   "outputs": [
    {
     "name": "stdout",
     "output_type": "stream",
     "text": [
      "File Batch Details: VectorStoreFileBatch(id='vsfb_73520b7fabca4a7dac4009db93b0f6f8', created_at=1720819652, file_counts=FileCounts(cancelled=0, completed=2, failed=0, in_progress=0, total=2), object='vector_store.file_batch', status='completed', vector_store_id='vs_heDUFg4vuO06OXzZ8HgIg5A9')\n"
     ]
    }
   ],
   "source": [
    "# Retrieve details of a specific file batch\n",
    "try:\n",
    "    file_batch_details = flexi_ai.retrieve_file_batch_details(vector_store.id, file_batch.id)\n",
    "    print(f\"File Batch Details: {file_batch_details}\")\n",
    "except RuntimeError as e:\n",
    "    print(f\"An error occurred while retrieving file batch details: {e}\")\n"
   ]
  },
  {
   "cell_type": "markdown",
   "metadata": {},
   "source": [
    "Step 9: Search for Files in a Vector Store"
   ]
  },
  {
   "cell_type": "code",
   "execution_count": 10,
   "metadata": {},
   "outputs": [
    {
     "name": "stdout",
     "output_type": "stream",
     "text": [
      "Search Result: File ID: assistant-fJ40McHJXunNaFnMhVS6r4Ep, Status: completed, Created At: 1720819646\n",
      "Search Result: File ID: assistant-GZiotRkKJnp80tQCADktMNqu, Status: completed, Created At: 1720819646\n"
     ]
    }
   ],
   "source": [
    "# Search for files in a vector store\n",
    "search_query = \"completed\"  # Example search query, adjust based on actual attributes\n",
    "try:\n",
    "    search_results = flexi_ai.search_files_in_vector_store(vector_store.id, search_query)\n",
    "    for result in search_results:\n",
    "        print(f\"Search Result: File ID: {result.id}, Status: {result.status}, Created At: {result.created_at}\")\n",
    "except RuntimeError as e:\n",
    "    print(f\"An error occurred while searching for files: {e}\")\n"
   ]
  },
  {
   "cell_type": "markdown",
   "metadata": {},
   "source": [
    "Step 10: Delete a Vector Store"
   ]
  },
  {
   "cell_type": "code",
   "execution_count": 11,
   "metadata": {},
   "outputs": [
    {
     "name": "stdout",
     "output_type": "stream",
     "text": [
      "Vector store vs_heDUFg4vuO06OXzZ8HgIg5A9 deleted successfully\n"
     ]
    }
   ],
   "source": [
    "# Delete a vector store\n",
    "try:\n",
    "    success = flexi_ai.delete_vector_store(vector_store.id)\n",
    "    if success:\n",
    "        print(f\"Vector store {vector_store.id} deleted successfully\")\n",
    "except RuntimeError as e:\n",
    "    print(f\"An error occurred while deleting the vector store: {e}\")\n"
   ]
  }
 ],
 "metadata": {
  "kernelspec": {
   "display_name": ".conda",
   "language": "python",
   "name": "python3"
  },
  "language_info": {
   "codemirror_mode": {
    "name": "ipython",
    "version": 3
   },
   "file_extension": ".py",
   "mimetype": "text/x-python",
   "name": "python",
   "nbconvert_exporter": "python",
   "pygments_lexer": "ipython3",
   "version": "3.11.9"
  }
 },
 "nbformat": 4,
 "nbformat_minor": 2
}
