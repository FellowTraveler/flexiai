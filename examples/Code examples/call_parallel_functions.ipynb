{
 "cells": [
  {
   "cell_type": "markdown",
   "metadata": {},
   "source": [
    "Apply nest_asyncio to allow nested event loops in Jupyter"
   ]
  },
  {
   "cell_type": "code",
   "execution_count": 1,
   "metadata": {},
   "outputs": [],
   "source": [
    "import nest_asyncio\n",
    "\n",
    "\n",
    "nest_asyncio.apply()"
   ]
  },
  {
   "cell_type": "markdown",
   "metadata": {},
   "source": [
    "Initial Setup and Configuration"
   ]
  },
  {
   "cell_type": "code",
   "execution_count": 2,
   "metadata": {},
   "outputs": [
    {
     "name": "stdout",
     "output_type": "stream",
     "text": [
      "Current Directory: /home/razvansavin/Proiecte/flexiai/examples/Code examples\n",
      "Changed Directory to: /home/razvansavin/Proiecte/flexiai\n",
      "Project root added to sys.path\n"
     ]
    }
   ],
   "source": [
    "import sys\n",
    "import os\n",
    "\n",
    "# Check current working directory\n",
    "current_dir = os.getcwd()\n",
    "print(f\"Current Directory: {current_dir}\")\n",
    "\n",
    "# Change to your project root directory\n",
    "project_root = '/home/razvansavin/Proiecte/flexiai'\n",
    "os.chdir(project_root)\n",
    "print(f\"Changed Directory to: {os.getcwd()}\")\n",
    "\n",
    "# Add project root directory to sys.path\n",
    "sys.path.append(project_root)\n",
    "print(f\"Project root added to sys.path\")"
   ]
  },
  {
   "cell_type": "markdown",
   "metadata": {},
   "source": [
    "Import required modules and set up logging."
   ]
  },
  {
   "cell_type": "code",
   "execution_count": 3,
   "metadata": {},
   "outputs": [],
   "source": [
    "import json\n",
    "import logging\n",
    "from flexiai.core.flexiai_client import FlexiAI\n",
    "from flexiai.config.logging_config import setup_logging\n",
    "from flexiai.core.utils.helpers import HelperFunctions\n",
    "\n",
    "# Setup logging using the predefined configuration\n",
    "setup_logging(root_level=logging.DEBUG, file_level=logging.DEBUG, console_level=logging.ERROR)\n",
    "\n",
    "# Initialize FlexiAI\n",
    "flexiai = FlexiAI()"
   ]
  },
  {
   "cell_type": "markdown",
   "metadata": {},
   "source": [
    "Define multiple tasks to be executed in parallel."
   ]
  },
  {
   "cell_type": "code",
   "execution_count": 4,
   "metadata": {},
   "outputs": [],
   "source": [
    "tasks = [\n",
    "    {\n",
    "        'function_name': 'recipe_master_assistant',\n",
    "        'parameters': {\n",
    "            'assistant_id': 'asst_6cXv3YvSnY1VS6HH7i1SZT1P',\n",
    "            'user_content': 'I want a recipe for pizza diavola.'\n",
    "        }\n",
    "    },\n",
    "    {\n",
    "        'function_name': 'jokes_creator_assistant',\n",
    "        'parameters': {\n",
    "            'assistant_id': 'asst_3j7TCL05TchAcvNVMCoYBfIU',\n",
    "            'user_content': 'Tell me a joke about computers.'\n",
    "        }\n",
    "    }\n",
    "]"
   ]
  },
  {
   "cell_type": "markdown",
   "metadata": {},
   "source": [
    "Execute Parallel Tool Calls:\n",
    "- Execute the tasks in parallel\n",
    "- Print the results."
   ]
  },
  {
   "cell_type": "code",
   "execution_count": 5,
   "metadata": {},
   "outputs": [
    {
     "name": "stdout",
     "output_type": "stream",
     "text": [
      "None\n",
      "None\n"
     ]
    }
   ],
   "source": [
    "try:\n",
    "    results = flexiai.call_parallel_functions(tasks)\n",
    "    \n",
    "    # Print the results\n",
    "    for result in results:\n",
    "        print(result)\n",
    "except Exception as e:\n",
    "    print(f\"An error occurred during parallel function execution: {e}\")"
   ]
  },
  {
   "cell_type": "markdown",
   "metadata": {},
   "source": [
    "Function to retrieve and print messages for a given thread ID:\n",
    "- This function retrieves messages from the thread and prints them."
   ]
  },
  {
   "cell_type": "code",
   "execution_count": 6,
   "metadata": {},
   "outputs": [],
   "source": [
    "def print_thread_messages(thread_id):\n",
    "    messages = flexiai.retrieve_messages(thread_id, order='desc', limit=20)\n",
    "    for msg in messages:\n",
    "        role = \"🤖 Assistant\" if msg['role'] == \"assistant\" else \"🧑 You\"\n",
    "        print(f\"{role}: {msg['content']}\")"
   ]
  },
  {
   "cell_type": "markdown",
   "metadata": {},
   "source": [
    "Retrieve and print messages for each task:\n",
    "- Retrieve and print messages for each assistant involved in the tasks."
   ]
  },
  {
   "cell_type": "code",
   "execution_count": 7,
   "metadata": {},
   "outputs": [
    {
     "name": "stdout",
     "output_type": "stream",
     "text": [
      "\n",
      "Messages for thread with assistant asst_6cXv3YvSnY1VS6HH7i1SZT1P:\n",
      "🧑 You: I want a recipe for pizza diavola.\n",
      "🤖 Assistant: I have crafted a recipe for Pizza Diavola. It features spicy salami, chili peppers, and mozzarella cheese on a thin crust, delivering a fiery and flavorful experience with a kick of heat.\n",
      "\n",
      "Messages for thread with assistant asst_3j7TCL05TchAcvNVMCoYBfIU:\n",
      "🧑 You: Tell me a joke about computers.\n",
      "🤖 Assistant: Why did the computer keep its drinks on the motherboard?\n",
      "\n",
      "Because it had too many bytes! 😄\n",
      "\n",
      "I hope that joke brought a smile to your face!\n"
     ]
    }
   ],
   "source": [
    "for task in tasks:\n",
    "    assistant_id = task['parameters']['assistant_id']\n",
    "    thread_id = flexiai.create_thread()\n",
    "    flexiai.add_user_message(thread_id, task['parameters']['user_content'])\n",
    "    flexiai.create_run(assistant_id, thread_id)\n",
    "    print(f\"\\nMessages for thread with assistant {assistant_id}:\")\n",
    "    print_thread_messages(thread_id)"
   ]
  }
 ],
 "metadata": {
  "kernelspec": {
   "display_name": ".conda",
   "language": "python",
   "name": "python3"
  },
  "language_info": {
   "codemirror_mode": {
    "name": "ipython",
    "version": 3
   },
   "file_extension": ".py",
   "mimetype": "text/x-python",
   "name": "python",
   "nbconvert_exporter": "python",
   "pygments_lexer": "ipython3",
   "version": "3.10.14"
  }
 },
 "nbformat": 4,
 "nbformat_minor": 2
}
