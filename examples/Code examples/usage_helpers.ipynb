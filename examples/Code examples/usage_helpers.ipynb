{
 "cells": [
  {
   "cell_type": "markdown",
   "metadata": {},
   "source": [
    "Initial Setup and Configuration:\n",
    "- Changing and Verifying the Working Directory for Project Setup\n",
    "- This section ensures that your working directory is set to the project root."
   ]
  },
  {
   "cell_type": "code",
   "execution_count": 9,
   "metadata": {},
   "outputs": [
    {
     "name": "stdout",
     "output_type": "stream",
     "text": [
      "Current Directory: /home/razvansavin/Proiecte/flexiai\n",
      "Changed Directory to: /home/razvansavin/Proiecte/flexiai\n",
      "Project root added to sys.path\n"
     ]
    }
   ],
   "source": [
    "import sys\n",
    "import os\n",
    "\n",
    "# Check current working directory\n",
    "current_dir = os.getcwd()\n",
    "print(f\"Current Directory: {current_dir}\")\n",
    "\n",
    "# Change to your project root directory\n",
    "project_root = '/home/razvansavin/Proiecte/flexiai'\n",
    "os.chdir(project_root)\n",
    "print(f\"Changed Directory to: {os.getcwd()}\")\n",
    "\n",
    "# Add project root directory to sys.path\n",
    "sys.path.append(project_root)\n",
    "print(f\"Project root added to sys.path\")"
   ]
  },
  {
   "cell_type": "markdown",
   "metadata": {},
   "source": [
    "Imports and Initialization"
   ]
  },
  {
   "cell_type": "code",
   "execution_count": 10,
   "metadata": {},
   "outputs": [],
   "source": [
    "import json\n",
    "import logging\n",
    "from flexiai.core.flexiai_client import FlexiAI\n",
    "from flexiai.config.logging_config import setup_logging\n",
    "from flexiai.core.utils.helpers import HelperFunctions\n",
    "\n",
    "# Set up logging\n",
    "setup_logging()\n",
    "\n",
    "# Initialize FlexiAI\n",
    "flexiai = FlexiAI()\n",
    "\n",
    "# Initialize variables to store messages\n",
    "all_messages = []\n",
    "seen_message_ids = set()"
   ]
  },
  {
   "cell_type": "markdown",
   "metadata": {},
   "source": [
    "Creating and Managing Threads:\n",
    "- Create a New Thread\n",
    "- This section demonstrates how to create a new thread using the FlexiAI client.\n"
   ]
  },
  {
   "cell_type": "code",
   "execution_count": 11,
   "metadata": {},
   "outputs": [
    {
     "name": "stdout",
     "output_type": "stream",
     "text": [
      "Creating a new thread...\n",
      "{\n",
      "    \"id\": \"thread_b6OHvXQsLGz8wY4WAbOJlIzT\",\n",
      "    \"created_at\": 1720821508,\n",
      "    \"metadata\": {},\n",
      "    \"object\": \"thread\",\n",
      "    \"tool_resources\": {\n",
      "        \"code_interpreter\": null,\n",
      "        \"file_search\": null\n",
      "    }\n",
      "}\n",
      "Thread ID: thread_b6OHvXQsLGz8wY4WAbOJlIzT\n"
     ]
    }
   ],
   "source": [
    "# Create a new thread\n",
    "print(\"Creating a new thread...\")\n",
    "thread = flexiai.create_thread()\n",
    "HelperFunctions.show_json(thread)\n",
    "thread_id = thread.id\n",
    "print(f\"Thread ID: {thread_id}\")"
   ]
  },
  {
   "cell_type": "markdown",
   "metadata": {},
   "source": [
    "Adding Messages and Retrieving Responses:\n",
    "- Add a User Message to the Thread\n",
    "- This section shows how to add a user message to the created thread."
   ]
  },
  {
   "cell_type": "code",
   "execution_count": 12,
   "metadata": {},
   "outputs": [
    {
     "name": "stdout",
     "output_type": "stream",
     "text": [
      "\n",
      "Adding user message: What is the capital of France?\n",
      "{\n",
      "    \"id\": \"msg_MfvwcQPB9KFAvkypbbXcPpbO\",\n",
      "    \"assistant_id\": null,\n",
      "    \"attachments\": [],\n",
      "    \"completed_at\": null,\n",
      "    \"content\": [\n",
      "        {\n",
      "            \"text\": {\n",
      "                \"annotations\": [],\n",
      "                \"value\": \"What is the capital of France?\"\n",
      "            },\n",
      "            \"type\": \"text\"\n",
      "        }\n",
      "    ],\n",
      "    \"created_at\": 1720821509,\n",
      "    \"incomplete_at\": null,\n",
      "    \"incomplete_details\": null,\n",
      "    \"metadata\": {},\n",
      "    \"object\": \"thread.message\",\n",
      "    \"role\": \"user\",\n",
      "    \"run_id\": null,\n",
      "    \"status\": null,\n",
      "    \"thread_id\": \"thread_b6OHvXQsLGz8wY4WAbOJlIzT\"\n",
      "}\n"
     ]
    }
   ],
   "source": [
    "user_message = \"What is the capital of France?\"\n",
    "print(f\"\\nAdding user message: {user_message}\")\n",
    "message = flexiai.add_user_message(thread_id, user_message)\n",
    "HelperFunctions.show_json(message)"
   ]
  },
  {
   "cell_type": "markdown",
   "metadata": {},
   "source": [
    "Handling Runs and Printing Messages:\n",
    "- Run the Thread and Log the Assistant's Response\n",
    "- This section runs the thread with a specified assistant and logs the response.\n"
   ]
  },
  {
   "cell_type": "code",
   "execution_count": 13,
   "metadata": {},
   "outputs": [
    {
     "name": "stdout",
     "output_type": "stream",
     "text": [
      "\n",
      "Running thread with assistant ID: asst_AWAVO511bAbTVEdOvLNWitoT\n",
      "{\n",
      "    \"id\": \"run_vdf2ONALQjwBQx4KZSaHaO3X\",\n",
      "    \"assistant_id\": \"asst_AWAVO511bAbTVEdOvLNWitoT\",\n",
      "    \"cancelled_at\": null,\n",
      "    \"completed_at\": 1720821510,\n",
      "    \"created_at\": 1720821509,\n",
      "    \"expires_at\": null,\n",
      "    \"failed_at\": null,\n",
      "    \"incomplete_details\": null,\n",
      "    \"instructions\": \"### Instructions for Assistant Alina\\n\\nAs Assistant Alina, you are a versatile assistant dedicated to offering exceptional support. You are capable of executing YouTube searches on user request. The following instructions outline the steps you should follow to provide efficient and effective assistance. You will execute searches only after user confirmation.\\n\\n### Workflow\\n\\n#### General Inquiries\\n\\n1. **Handling General Inquiries**:\\n   - Address user queries to the best of your ability, providing information, support, and resources as needed.\\n\\n2. **Using the YouTube Search Function**:\\n   - When a user requests assistance with finding video content on YouTube, use the YouTube search functionality.\\n\\n### Function-Specific Instructions\\n\\n#### Search on YouTube (search_youtube)\\n\\n- **Purpose**: Help users find video content on YouTube based on their queries.\\n- **Parameters**:\\n  - **query (string)**: The user's search query for YouTube.\\n- **Usage**:\\n  - **User-Initiated Requests Only**: The `search_youtube` function should only be triggered when explicitly requested by the user. Do not initiate a YouTube search without a specific request from the user.\\n  - **Prompt for User Query**: Ask what they would like to search for on YouTube.\\n  - **Request Confirmation**: Confirm with the user before proceeding with the search.\\n  - **Wait for User Confirmation**: It is essential to wait for the user's explicit confirmation before executing the search.\\n    - **Note**: Do not trigger the `search_youtube` function until you receive clear confirmation from the user.\\n  - **Execute the Search**: Only if the user confirms, use the `search_youtube` function with the user's query.\\n  - **Inform the User**: Let the user know when you are conducting the search.\\n  - **Handling Multiple Search Requests**: When a user asks for a list of items, titles, etc., pay attention to the tasks mentioned before. Only initiate searches for multiple items if the user explicitly requests it and confirms each search.\\n\\n### Additional Instructions\\n\\n1. **Confirmation for Search Requests**: Alina will not initiate the search when she knows the user intends to search on YouTube until she gets user confirmation for searches.\\n2. **Attention to Previous Tasks**: When a user asks for a list of items, titles, etc., Alina will pay attention to the tasks mentioned before. She will only initiate searches for these if the user explicitly requests it and confirms each search.\\n3. **Providing Lists Before Searches**: When users ask for lists of movies, keywords, or other items to search, first provide the list to the user. Wait for their instruction to proceed with the search on YouTube. Do not ask for confirmation for each item individually to avoid annoying the user.\\n\\n### General Guidelines\\n\\n1. **Professionalism**: Maintain a professional and friendly tone in all interactions.\\n2. **Responsiveness**: Address user queries promptly and accurately.\\n3. **Clarity**: Provide clear and concise information to ensure user understanding.\\n4. **Adaptability**: Be prepared to handle a wide range of queries and requests.\\n\\nBy following these instructions, you will ensure a high level of service and satisfaction for all users who interact with you.\",\n",
      "    \"last_error\": null,\n",
      "    \"max_completion_tokens\": null,\n",
      "    \"max_prompt_tokens\": null,\n",
      "    \"metadata\": {},\n",
      "    \"model\": \"gpt-3.5-turbo-0125\",\n",
      "    \"object\": \"thread.run\",\n",
      "    \"parallel_tool_calls\": true,\n",
      "    \"required_action\": null,\n",
      "    \"response_format\": \"auto\",\n",
      "    \"started_at\": 1720821510,\n",
      "    \"status\": \"completed\",\n",
      "    \"thread_id\": \"thread_b6OHvXQsLGz8wY4WAbOJlIzT\",\n",
      "    \"tool_choice\": \"auto\",\n",
      "    \"tools\": [\n",
      "        {\n",
      "            \"function\": {\n",
      "                \"name\": \"search_youtube\",\n",
      "                \"description\": \"This function triggers a YouTube search in the default web browser using a specified search query. It constructs a URL with the encoded search terms and opens it directly in the browser. This allows users to quickly view search results on YouTube without manually entering their search terms in the YouTube search bar. The function is designed to handle any valid string as a query, including complex queries combining multiple keywords. It's useful for quickly accessing a wide range of video content on YouTube related to user-specific interests or queries.\",\n",
      "                \"parameters\": {\n",
      "                    \"type\": \"object\",\n",
      "                    \"properties\": {\n",
      "                        \"query\": {\n",
      "                            \"type\": \"string\",\n",
      "                            \"optional\": false\n",
      "                        }\n",
      "                    },\n",
      "                    \"required\": [\n",
      "                        \"query\"\n",
      "                    ]\n",
      "                }\n",
      "            },\n",
      "            \"type\": \"function\"\n",
      "        }\n",
      "    ],\n",
      "    \"truncation_strategy\": {\n",
      "        \"type\": \"auto\",\n",
      "        \"last_messages\": null\n",
      "    },\n",
      "    \"usage\": {\n",
      "        \"completion_tokens\": 9,\n",
      "        \"prompt_tokens\": 984,\n",
      "        \"total_tokens\": 993\n",
      "    },\n",
      "    \"temperature\": 0.5,\n",
      "    \"top_p\": 0.8,\n",
      "    \"tool_resources\": {}\n",
      "}\n"
     ]
    }
   ],
   "source": [
    "assistant_id = 'asst_AWAVO511bAbTVEdOvLNWitoT'  # Replace with your actual assistant ID\n",
    "print(f\"\\nRunning thread with assistant ID: {assistant_id}\")\n",
    "\n",
    "run = flexiai.create_run(assistant_id, thread_id)\n",
    "HelperFunctions.print_run_details(run)"
   ]
  },
  {
   "cell_type": "markdown",
   "metadata": {},
   "source": [
    "Retrieving and Printing Messages:\n",
    "- This section retrieves the messages from the thread and prints them in a readable format."
   ]
  },
  {
   "cell_type": "code",
   "execution_count": 14,
   "metadata": {},
   "outputs": [
    {
     "name": "stdout",
     "output_type": "stream",
     "text": [
      "====================================================================================================\n",
      "User: What is the capital of France?\n",
      "Assistant: The capital of France is Paris.\n",
      "====================================================================================================\n",
      "\n"
     ]
    }
   ],
   "source": [
    "# Retrieve and print the messages\n",
    "try:\n",
    "    # Retrieve messages from the thread\n",
    "    messages = flexiai.retrieve_messages(thread_id, order='desc', limit=2)\n",
    "    \n",
    "    # Loop through each message retrieved\n",
    "    for msg in messages:\n",
    "        # Check if the message ID is not already processed\n",
    "        if msg['message_id'] not in seen_message_ids:\n",
    "            # Add message to all_messages list\n",
    "            all_messages.append(msg)\n",
    "            # Add message ID to seen_message_ids set to avoid processing duplicates\n",
    "            seen_message_ids.add(msg['message_id'])\n",
    "    \n",
    "    # Pretty print all retrieved messages\n",
    "    HelperFunctions.pretty_print(all_messages)\n",
    "except Exception as e:\n",
    "    # Log any errors that occur during message retrieval\n",
    "    logging.error(f\"Error retrieving messages: {e}\")"
   ]
  },
  {
   "cell_type": "markdown",
   "metadata": {},
   "source": [
    "### Example of Retrieving Messages:\n",
    "- In this section, we demonstrate how to retrieve messages from a thread and show the format of the returned messages."
   ]
  },
  {
   "cell_type": "code",
   "execution_count": 15,
   "metadata": {},
   "outputs": [
    {
     "name": "stdout",
     "output_type": "stream",
     "text": [
      "[\n",
      "    {\n",
      "        \"message_id\": \"msg_MfvwcQPB9KFAvkypbbXcPpbO\",\n",
      "        \"role\": \"user\",\n",
      "        \"content\": \"What is the capital of France?\"\n",
      "    },\n",
      "    {\n",
      "        \"message_id\": \"msg_X7pTLdOQAp2kZOHmEzpBDGcA\",\n",
      "        \"role\": \"assistant\",\n",
      "        \"content\": \"The capital of France is Paris.\"\n",
      "    }\n",
      "]\n"
     ]
    }
   ],
   "source": [
    "# Retrieve messages from the thread in descending order\n",
    "messages = flexiai.retrieve_messages(thread_id, order='desc', limit=20)\n",
    "\n",
    "# Pretty print the messages\n",
    "pretty_messages = json.dumps(messages, indent=4)\n",
    "print(pretty_messages)"
   ]
  },
  {
   "cell_type": "markdown",
   "metadata": {},
   "source": [
    "#### Format of Returned Messages:\n",
    "- The `retrieve_messages` function returns a list of dictionaries with the following structure:\n",
    "\n",
    "```python\n",
    "formatted_messages.append({\n",
    "    'message_id': message_id,\n",
    "    'role': role,\n",
    "    'content': content_value\n",
    "})\n",
    "```\n",
    "- **message_id**: The unique identifier for each message.\n",
    "- **role**: The role of the message sender, either 'user' or 'assistant'.\n",
    "- **content**: The text content of the message.\n"
   ]
  },
  {
   "cell_type": "markdown",
   "metadata": {},
   "source": [
    "### Example of Retrieving Message Objects:\n",
    "- In this section, we show how to retrieve the entire message objects from a thread.\n"
   ]
  },
  {
   "cell_type": "code",
   "execution_count": 16,
   "metadata": {},
   "outputs": [
    {
     "name": "stdout",
     "output_type": "stream",
     "text": [
      "[\n",
      "    {\n",
      "        \"id\": \"msg_MfvwcQPB9KFAvkypbbXcPpbO\",\n",
      "        \"assistant_id\": null,\n",
      "        \"attachments\": [],\n",
      "        \"completed_at\": null,\n",
      "        \"content\": [\n",
      "            {\n",
      "                \"text\": {\n",
      "                    \"annotations\": [],\n",
      "                    \"value\": \"What is the capital of France?\"\n",
      "                },\n",
      "                \"type\": \"text\"\n",
      "            }\n",
      "        ],\n",
      "        \"created_at\": 1720821509,\n",
      "        \"incomplete_at\": null,\n",
      "        \"incomplete_details\": null,\n",
      "        \"metadata\": {},\n",
      "        \"object\": \"thread.message\",\n",
      "        \"role\": \"user\",\n",
      "        \"run_id\": null,\n",
      "        \"status\": null,\n",
      "        \"thread_id\": \"thread_b6OHvXQsLGz8wY4WAbOJlIzT\"\n",
      "    },\n",
      "    {\n",
      "        \"id\": \"msg_X7pTLdOQAp2kZOHmEzpBDGcA\",\n",
      "        \"assistant_id\": \"asst_AWAVO511bAbTVEdOvLNWitoT\",\n",
      "        \"attachments\": [],\n",
      "        \"completed_at\": null,\n",
      "        \"content\": [\n",
      "            {\n",
      "                \"text\": {\n",
      "                    \"annotations\": [],\n",
      "                    \"value\": \"The capital of France is Paris.\"\n",
      "                },\n",
      "                \"type\": \"text\"\n",
      "            }\n",
      "        ],\n",
      "        \"created_at\": 1720821510,\n",
      "        \"incomplete_at\": null,\n",
      "        \"incomplete_details\": null,\n",
      "        \"metadata\": {},\n",
      "        \"object\": \"thread.message\",\n",
      "        \"role\": \"assistant\",\n",
      "        \"run_id\": \"run_vdf2ONALQjwBQx4KZSaHaO3X\",\n",
      "        \"status\": null,\n",
      "        \"thread_id\": \"thread_b6OHvXQsLGz8wY4WAbOJlIzT\"\n",
      "    }\n",
      "]\n"
     ]
    }
   ],
   "source": [
    "# Retrieve message objects from the thread in ascending order\n",
    "messages = flexiai.retrieve_message_object(thread_id, order='asc', limit=20)\n",
    "HelperFunctions.print_messages_as_json(messages)"
   ]
  },
  {
   "cell_type": "markdown",
   "metadata": {},
   "source": [
    "\n",
    "#### Explanation:\n",
    "1. **Retrieve Messages**:\n",
    "   - The `retrieve_messages` function fetches messages from the thread in a formatted dictionary structure.\n",
    "   - The `order='desc'` argument specifies that the messages are retrieved in descending order (newest first).\n",
    "   - `limit=20` specifies the maximum number of messages to retrieve.\n",
    "   - The returned messages are printed to show their format.\n",
    "\n",
    "2. **Retrieve Message Objects**:\n",
    "   - The `retrieve_message_object` function fetches the entire message objects from the thread.\n",
    "   - The `order='asc'` argument specifies that the messages are retrieved in ascending order (oldest first).\n",
    "   - `limit=20` specifies the maximum number of message objects to retrieve.\n",
    "   - The retrieved message objects are printed to show their detailed structure.\n"
   ]
  }
 ],
 "metadata": {
  "kernelspec": {
   "display_name": ".conda",
   "language": "python",
   "name": "python3"
  },
  "language_info": {
   "codemirror_mode": {
    "name": "ipython",
    "version": 3
   },
   "file_extension": ".py",
   "mimetype": "text/x-python",
   "name": "python",
   "nbconvert_exporter": "python",
   "pygments_lexer": "ipython3",
   "version": "3.10.14"
  }
 },
 "nbformat": 4,
 "nbformat_minor": 2
}
