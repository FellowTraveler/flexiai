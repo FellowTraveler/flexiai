{
 "cells": [
  {
   "cell_type": "code",
   "execution_count": 1,
   "metadata": {},
   "outputs": [
    {
     "name": "stdout",
     "output_type": "stream",
     "text": [
      "Current Directory: /home/razvansavin/Proiecte/flexiai/examples/Code examples\n",
      "Changed Directory to: /home/razvansavin/Proiecte/flexiai\n",
      "Project root added to sys.path\n"
     ]
    }
   ],
   "source": [
    "import sys\n",
    "import os\n",
    "\n",
    "# Check current working directory\n",
    "current_dir = os.getcwd()\n",
    "print(f\"Current Directory: {current_dir}\")\n",
    "\n",
    "# Change to your project root directory\n",
    "project_root = '/home/razvansavin/Proiecte/flexiai'\n",
    "os.chdir(project_root)\n",
    "print(f\"Changed Directory to: {os.getcwd()}\")\n",
    "\n",
    "# Add project root directory to sys.path\n",
    "sys.path.append(project_root)\n",
    "print(f\"Project root added to sys.path\")"
   ]
  },
  {
   "cell_type": "code",
   "execution_count": 3,
   "metadata": {},
   "outputs": [
    {
     "name": "stdout",
     "output_type": "stream",
     "text": [
      "Embedding created successfully\n",
      "[0.001711169839836657, -0.008033276535570621, -0.01131216436624527, -0.013320484198629856, 0.003306212369352579, 0.006352846045047045, -0.009037435986101627, -0.003398431232199073, 0.007760035805404186, -0.04169652983546257, 0.02409982867538929, 0.02855365350842476, 0.028471680358052254, -0.02169531211256981, -0.004112272523343563, 0.016257820650935173, 0.02004220522940159, -0.010506104677915573, 0.011510264128446579, 0.00212956964969635]...\n"
     ]
    }
   ],
   "source": [
    "# Your script or main application file\n",
    "from flexiai.core.flexiai_client import FlexiAI\n",
    "from flexiai.config.logging_config import setup_logging\n",
    "\n",
    "# Set up logging\n",
    "setup_logging()\n",
    "\n",
    "# Initialize FlexiAI\n",
    "flexiai = FlexiAI()\n",
    "\n",
    "# Create an embedding\n",
    "text = \"OpenAI provides powerful tools for developers.\"\n",
    "try:\n",
    "    embedding = flexiai.embedding_manager.create_embedding(text)\n",
    "    print(\"Embedding created successfully\")\n",
    "    print(f\"{embedding[:20]}...\")\n",
    "except Exception as e:\n",
    "    print(f\"Error creating embedding: {str(e)}\")\n"
   ]
  },
  {
   "cell_type": "markdown",
   "metadata": {},
   "source": [
    "---\n",
    "---\n",
    "---"
   ]
  },
  {
   "cell_type": "code",
   "execution_count": 3,
   "metadata": {},
   "outputs": [
    {
     "name": "stdout",
     "output_type": "stream",
     "text": [
      "Requirement already satisfied: numpy in /home/razvansavin/.conda_flexi/lib/python3.11/site-packages (1.26.4)\n",
      "Note: you may need to restart the kernel to use updated packages.\n",
      "Requirement already satisfied: scikit-learn in /home/razvansavin/.conda_flexi/lib/python3.11/site-packages (1.5.1)\n",
      "Requirement already satisfied: numpy>=1.19.5 in /home/razvansavin/.conda_flexi/lib/python3.11/site-packages (from scikit-learn) (1.26.4)\n",
      "Requirement already satisfied: scipy>=1.6.0 in /home/razvansavin/.conda_flexi/lib/python3.11/site-packages (from scikit-learn) (1.14.0)\n",
      "Requirement already satisfied: joblib>=1.2.0 in /home/razvansavin/.conda_flexi/lib/python3.11/site-packages (from scikit-learn) (1.4.2)\n",
      "Requirement already satisfied: threadpoolctl>=3.1.0 in /home/razvansavin/.conda_flexi/lib/python3.11/site-packages (from scikit-learn) (3.5.0)\n",
      "Note: you may need to restart the kernel to use updated packages.\n"
     ]
    }
   ],
   "source": [
    "%pip install numpy\n",
    "%pip install scikit-learn"
   ]
  },
  {
   "cell_type": "markdown",
   "metadata": {},
   "source": [
    "### 1. **Text Similarity and Search**\n",
    "\n",
    "#### Example: Finding Similar Texts\n",
    "You can use embeddings to find texts that are similar to a given input text. This is useful for search engines, recommendation systems, and clustering similar documents.\n"
   ]
  },
  {
   "cell_type": "code",
   "execution_count": 4,
   "metadata": {},
   "outputs": [
    {
     "name": "stdout",
     "output_type": "stream",
     "text": [
      "Most similar text: Developers use OpenAI tools for creating applications.\n"
     ]
    }
   ],
   "source": [
    "import numpy as np\n",
    "\n",
    "def cosine_similarity(vec1, vec2):\n",
    "    \"\"\"Calculate the cosine similarity between two vectors.\"\"\"\n",
    "    return np.dot(vec1, vec2) / (np.linalg.norm(vec1) * np.linalg.norm(vec2))\n",
    "\n",
    "# Embedding for the input text\n",
    "input_text = \"OpenAI provides powerful tools for developers.\"\n",
    "input_embedding = flexiai.embedding_manager.create_embedding(input_text)\n",
    "\n",
    "# Embeddings for a list of texts\n",
    "texts = [\n",
    "    \"Developers use OpenAI tools for creating applications.\",\n",
    "    \"AI is revolutionizing technology.\",\n",
    "    \"Cooking recipes are easy to find online.\",\n",
    "]\n",
    "embeddings = [flexiai.embedding_manager.create_embedding(text) for text in texts]\n",
    "\n",
    "# Find the most similar text\n",
    "similarities = [cosine_similarity(input_embedding, emb) for emb in embeddings]\n",
    "most_similar_index = np.argmax(similarities)\n",
    "print(f\"Most similar text: {texts[most_similar_index]}\")\n"
   ]
  },
  {
   "cell_type": "markdown",
   "metadata": {},
   "source": [
    "### 2. **Clustering**\n",
    "\n",
    "#### Example: Clustering Texts\n",
    "Clustering texts based on their embeddings can help in organizing and categorizing large datasets."
   ]
  },
  {
   "cell_type": "code",
   "execution_count": 5,
   "metadata": {},
   "outputs": [
    {
     "name": "stdout",
     "output_type": "stream",
     "text": [
      "Cluster 0:\n",
      " - AI is revolutionizing technology.\n",
      " - Artificial intelligence is a growing field.\n",
      " - Machine learning is a subset of AI.\n",
      " - Technology is advancing rapidly.\n",
      " - AI is used in various industries.\n",
      "Cluster 1:\n",
      " - Cooking recipes are easy to find online.\n",
      " - Food blogs are popular.\n",
      " - I love baking new recipes.\n",
      " - Recipes for healthy eating are trending.\n",
      "Cluster 2:\n",
      " - OpenAI provides powerful tools for developers.\n",
      " - Developers use OpenAI tools for creating applications.\n",
      " - AI tools help developers build software.\n"
     ]
    }
   ],
   "source": [
    "from sklearn.cluster import KMeans\n",
    "from sklearn.preprocessing import StandardScaler\n",
    "import numpy as np\n",
    "\n",
    "# Example: Clustering Texts\n",
    "texts = [\n",
    "    \"OpenAI provides powerful tools for developers.\",\n",
    "    \"Developers use OpenAI tools for creating applications.\",\n",
    "    \"AI is revolutionizing technology.\",\n",
    "    \"Cooking recipes are easy to find online.\",\n",
    "    \"Artificial intelligence is a growing field.\",\n",
    "    \"Food blogs are popular.\",\n",
    "    \"Machine learning is a subset of AI.\",\n",
    "    \"I love baking new recipes.\",\n",
    "    \"AI tools help developers build software.\",\n",
    "    \"Technology is advancing rapidly.\",\n",
    "    \"Recipes for healthy eating are trending.\",\n",
    "    \"AI is used in various industries.\",\n",
    "]\n",
    "\n",
    "# Generate embeddings for texts\n",
    "embeddings = [flexiai.embedding_manager.create_embedding(text) for text in texts]\n",
    "\n",
    "# Scale embeddings\n",
    "scaler = StandardScaler()\n",
    "scaled_embeddings = scaler.fit_transform(embeddings)\n",
    "\n",
    "# Clustering with KMeans\n",
    "num_clusters = 3\n",
    "kmeans = KMeans(n_clusters=num_clusters, random_state=42)\n",
    "clusters = kmeans.fit_predict(scaled_embeddings)\n",
    "\n",
    "# Print clustered texts\n",
    "for i in range(num_clusters):\n",
    "    cluster_texts = [texts[j] for j in range(len(texts)) if clusters[j] == i]\n",
    "    print(f\"Cluster {i}:\")\n",
    "    for text in cluster_texts:\n",
    "        print(f\" - {text}\")\n"
   ]
  },
  {
   "cell_type": "markdown",
   "metadata": {},
   "source": [
    "### 3. **Semantic Search**\n",
    "\n",
    "#### Example: Implementing Semantic Search\n",
    "Semantic search uses embeddings to find relevant documents based on the meaning of the query rather than keyword matching.\n"
   ]
  },
  {
   "cell_type": "code",
   "execution_count": 6,
   "metadata": {},
   "outputs": [
    {
     "name": "stdout",
     "output_type": "stream",
     "text": [
      "Most relevant document: AI is revolutionizing technology.\n"
     ]
    }
   ],
   "source": [
    "# Example: Semantic Search\n",
    "query = \"How does AI impact technology?\"\n",
    "query_embedding = flexiai.embedding_manager.create_embedding(query)\n",
    "\n",
    "# Assuming `documents` is a list of document texts and `doc_embeddings` is a list of their embeddings\n",
    "documents = [\n",
    "    \"AI is revolutionizing technology.\",\n",
    "    \"Cooking recipes are easy to find online.\",\n",
    "    \"Developers use OpenAI tools for creating applications.\",\n",
    "]\n",
    "doc_embeddings = [flexiai.embedding_manager.create_embedding(doc) for doc in documents]\n",
    "\n",
    "# Find the most relevant document\n",
    "similarities = [cosine_similarity(query_embedding, emb) for emb in doc_embeddings]\n",
    "most_relevant_index = np.argmax(similarities)\n",
    "print(f\"Most relevant document: {documents[most_relevant_index]}\")\n"
   ]
  },
  {
   "cell_type": "markdown",
   "metadata": {},
   "source": [
    "### 4. **Text Classification**\n",
    "\n",
    "#### Example: Classifying Texts\n",
    "Embeddings can be used as features for text classification tasks such as sentiment analysis, topic categorization, etc.\n"
   ]
  },
  {
   "cell_type": "code",
   "execution_count": 7,
   "metadata": {},
   "outputs": [
    {
     "name": "stdout",
     "output_type": "stream",
     "text": [
      "Predicted label: tech-related\n"
     ]
    }
   ],
   "source": [
    "from sklearn.linear_model import LogisticRegression\n",
    "\n",
    "# Example: Text Classification\n",
    "texts = [\n",
    "    \"I love using OpenAI tools.\",\n",
    "    \"AI is transforming the industry.\",\n",
    "    \"I found a great recipe for pasta.\",\n",
    "    \"Artificial intelligence is fascinating.\",\n",
    "]\n",
    "labels = [1, 1, 0, 1]  # 1 for tech-related, 0 for non-tech-related\n",
    "\n",
    "embeddings = [flexiai.embedding_manager.create_embedding(text) for text in texts]\n",
    "\n",
    "# Train a simple classifier\n",
    "classifier = LogisticRegression()\n",
    "classifier.fit(embeddings, labels)\n",
    "\n",
    "# Classify a new text\n",
    "new_text = \"Developers are creating amazing applications with AI.\"\n",
    "new_embedding = flexiai.embedding_manager.create_embedding(new_text)\n",
    "predicted_label = classifier.predict([new_embedding])\n",
    "print(f\"Predicted label: {'tech-related' if predicted_label[0] == 1 else 'non-tech-related'}\")\n"
   ]
  },
  {
   "cell_type": "markdown",
   "metadata": {},
   "source": [
    "### 5. **Question Answering**\n",
    "\n",
    "#### Example: Answering Questions with Context\n",
    "Using embeddings, you can implement a basic question-answering system that retrieves the most relevant answer from a given context."
   ]
  },
  {
   "cell_type": "code",
   "execution_count": 8,
   "metadata": {},
   "outputs": [
    {
     "name": "stdout",
     "output_type": "stream",
     "text": [
      "Answer: OpenAI provides powerful tools for developers.\n"
     ]
    }
   ],
   "source": [
    "# Example: Question Answering\n",
    "context = [\n",
    "    \"OpenAI provides powerful tools for developers.\",\n",
    "    \"AI is revolutionizing technology.\",\n",
    "    \"Developers use OpenAI tools for creating applications.\",\n",
    "]\n",
    "question = \"What does OpenAI provide?\"\n",
    "\n",
    "# Embeddings for context sentences and question\n",
    "context_embeddings = [flexiai.embedding_manager.create_embedding(sentence) for sentence in context]\n",
    "question_embedding = flexiai.embedding_manager.create_embedding(question)\n",
    "\n",
    "# Find the most relevant context sentence\n",
    "similarities = [cosine_similarity(question_embedding, emb) for emb in context_embeddings]\n",
    "most_relevant_index = np.argmax(similarities)\n",
    "print(f\"Answer: {context[most_relevant_index]}\")\n"
   ]
  },
  {
   "cell_type": "markdown",
   "metadata": {},
   "source": [
    "### 6. **Sentiment Analysis**\n",
    "\n",
    "#### Example: Sentiment Classification with Logistic Regression\n",
    "Using embeddings as features for training a sentiment classifier."
   ]
  },
  {
   "cell_type": "code",
   "execution_count": 9,
   "metadata": {},
   "outputs": [
    {
     "name": "stdout",
     "output_type": "stream",
     "text": [
      "Test Accuracy: 100.00%\n",
      "Text: 'OpenAI's tools are amazing!' - Sentiment: positive\n",
      "Text: 'I am very disappointed with the service.' - Sentiment: negative\n"
     ]
    }
   ],
   "source": [
    "from flexiai.core.flexiai_client import FlexiAI\n",
    "from flexiai.config.logging_config import setup_logging\n",
    "from sklearn.linear_model import LogisticRegression\n",
    "from sklearn.model_selection import train_test_split\n",
    "from sklearn.metrics import accuracy_score\n",
    "\n",
    "# Set up logging\n",
    "setup_logging()\n",
    "\n",
    "# Initialize FlexiAI\n",
    "flexiai = FlexiAI()\n",
    "\n",
    "# Sample data\n",
    "texts = [\n",
    "    \"I love using OpenAI tools.\",\n",
    "    \"AI is revolutionizing the industry.\",\n",
    "    \"I found a great recipe for pasta.\",\n",
    "    \"Artificial intelligence is fascinating.\",\n",
    "    \"I am so frustrated with this service.\",\n",
    "    \"This is the worst experience I've ever had.\",\n",
    "]\n",
    "labels = [1, 1, 1, 1, 0, 0]  # 1 for positive, 0 for negative\n",
    "\n",
    "# Generate embeddings for texts using FlexiAI `create_embeddings` function\n",
    "embeddings = [flexiai.embedding_manager.create_embedding(text) for text in texts]\n",
    "\n",
    "# Filter out any None values if embedding generation failed for any text\n",
    "embeddings = [emb for emb in embeddings if emb is not None]\n",
    "labels = [label for emb, label in zip(embeddings, labels) if emb is not None]\n",
    "\n",
    "# Split the data into training and test sets\n",
    "train_embeddings, test_embeddings, train_labels, test_labels = train_test_split(embeddings, labels, test_size=0.2, random_state=42)\n",
    "\n",
    "# Train the logistic regression classifier\n",
    "classifier = LogisticRegression()\n",
    "classifier.fit(train_embeddings, train_labels)\n",
    "\n",
    "# Evaluate the classifier\n",
    "predicted_test_labels = classifier.predict(test_embeddings)\n",
    "accuracy = accuracy_score(test_labels, predicted_test_labels)\n",
    "print(f\"Test Accuracy: {accuracy * 100:.2f}%\")\n",
    "\n",
    "# Classify new texts\n",
    "new_texts = [\n",
    "    \"OpenAI's tools are amazing!\",\n",
    "    \"I am very disappointed with the service.\",\n",
    "]\n",
    "# Generate NEW embeddings for texts using FlexiAI `create_embeddings` function\n",
    "new_embeddings = [flexiai.embedding_manager.create_embedding(text) for text in new_texts]\n",
    "predicted_labels = classifier.predict(new_embeddings)\n",
    "\n",
    "for text, label in zip(new_texts, predicted_labels):\n",
    "    sentiment = 'positive' if label == 1 else 'negative'\n",
    "    print(f\"Text: '{text}' - Sentiment: {sentiment}\")\n"
   ]
  },
  {
   "cell_type": "markdown",
   "metadata": {},
   "source": [
    "### 7. **Enhanced Sentiment Analysis with Data Augmentation**\n",
    "\n",
    "#### Example: Sentiment Classification with Logistic Regression and Data Augmentation\n",
    "In this example, we improve sentiment classification by augmenting the data to create more variations of the texts. This helps in better generalization of the classifier."
   ]
  },
  {
   "cell_type": "code",
   "execution_count": 10,
   "metadata": {},
   "outputs": [
    {
     "name": "stdout",
     "output_type": "stream",
     "text": [
      "Cross-Validation Accuracy: 96.00%\n",
      "Test Accuracy: 100.00%\n",
      "Precision: 100.00%\n",
      "Recall: 100.00%\n",
      "F1 Score: 100.00%\n",
      "Text: 'OpenAI's tools are amazing!' - Sentiment: positive\n",
      "Text: 'I am very disappointed with the service.' - Sentiment: negative\n"
     ]
    }
   ],
   "source": [
    "from flexiai.core.flexiai_client import FlexiAI\n",
    "from flexiai.config.logging_config import setup_logging\n",
    "from sklearn.linear_model import LogisticRegression\n",
    "from sklearn.model_selection import train_test_split, StratifiedKFold, cross_val_score\n",
    "from sklearn.metrics import accuracy_score, precision_score, recall_score, f1_score\n",
    "\n",
    "# Set up logging\n",
    "setup_logging()\n",
    "\n",
    "# Initialize FlexiAI\n",
    "flexiai = FlexiAI()\n",
    "\n",
    "# Sample data\n",
    "texts = [\n",
    "    \"I love using OpenAI tools.\",\n",
    "    \"AI is revolutionizing the industry.\",\n",
    "    \"I found a great recipe for pasta.\",\n",
    "    \"Artificial intelligence is fascinating.\",\n",
    "    \"I am so frustrated with this service.\",\n",
    "    \"This is the worst experience I've ever had.\",\n",
    "    \"I hate waiting in long lines.\",\n",
    "    \"The product quality is terrible.\",\n",
    "    \"The new feature is awesome!\",\n",
    "    \"I am very pleased with the customer support.\",\n",
    "]\n",
    "labels = [1, 1, 1, 1, 0, 0, 0, 0, 1, 1]  # 1 for positive, 0 for negative\n",
    "\n",
    "# Data augmentation: create slight variations of the texts\n",
    "augmented_texts = texts + [\n",
    "    \"I absolutely love using OpenAI tools.\",\n",
    "    \"The industry is being revolutionized by AI.\",\n",
    "    \"I discovered a fantastic recipe for pasta.\",\n",
    "    \"AI is incredibly fascinating.\",\n",
    "    \"This service is extremely frustrating.\",\n",
    "    \"I've never had a worse experience.\",\n",
    "    \"Waiting in long lines is so annoying.\",\n",
    "    \"The quality of the product is horrible.\",\n",
    "    \"The new feature is really awesome!\",\n",
    "    \"Customer support has been very pleasing.\",\n",
    "    \"Using OpenAI tools is such a pleasure.\",\n",
    "    \"AI is changing the world.\",\n",
    "    \"Found an amazing pasta recipe!\",\n",
    "    \"I find artificial intelligence really interesting.\",\n",
    "    \"This service makes me so angry.\",\n",
    "    \"Worst service experience ever.\",\n",
    "    \"I despise long wait times.\",\n",
    "    \"Product quality is very poor.\",\n",
    "    \"Loving the new feature!\",\n",
    "    \"Very satisfied with customer support.\",\n",
    "]\n",
    "augmented_labels = labels + labels + labels\n",
    "\n",
    "# Generate embeddings for texts\n",
    "embeddings = [flexiai.embedding_manager.create_embedding(text) for text in augmented_texts]\n",
    "\n",
    "# Filter out any None values if embedding generation failed for any text\n",
    "embeddings = [emb for emb in embeddings if emb is not None]\n",
    "augmented_labels = [label for emb, label in zip(embeddings, augmented_labels) if emb is not None]\n",
    "\n",
    "# Split the data into training and test sets\n",
    "train_embeddings, test_embeddings, train_labels, test_labels = train_test_split(embeddings, augmented_labels, test_size=0.2, random_state=42, stratify=augmented_labels)\n",
    "\n",
    "# Train the logistic regression classifier with regularization\n",
    "classifier = LogisticRegression(C=1.0, solver='liblinear')\n",
    "classifier.fit(train_embeddings, train_labels)\n",
    "\n",
    "# Cross-validation using StratifiedKFold to ensure balanced splits\n",
    "cv = StratifiedKFold(n_splits=5, shuffle=True, random_state=42)\n",
    "cv_scores = cross_val_score(classifier, train_embeddings, train_labels, cv=cv)\n",
    "\n",
    "print(f\"Cross-Validation Accuracy: {cv_scores.mean() * 100:.2f}%\")\n",
    "\n",
    "# Evaluate the classifier on the test set\n",
    "predicted_test_labels = classifier.predict(test_embeddings)\n",
    "accuracy = accuracy_score(test_labels, predicted_test_labels)\n",
    "precision = precision_score(test_labels, predicted_test_labels)\n",
    "recall = recall_score(test_labels, predicted_test_labels)\n",
    "f1 = f1_score(test_labels, predicted_test_labels)\n",
    "\n",
    "print(f\"Test Accuracy: {accuracy * 100:.2f}%\")\n",
    "print(f\"Precision: {precision * 100:.2f}%\")\n",
    "print(f\"Recall: {recall * 100:.2f}%\")\n",
    "print(f\"F1 Score: {f1 * 100:.2f}%\")\n",
    "\n",
    "# Classify new texts\n",
    "new_texts = [\n",
    "    \"OpenAI's tools are amazing!\",\n",
    "    \"I am very disappointed with the service.\",\n",
    "]\n",
    "new_embeddings = [flexiai.embedding_manager.create_embedding(text) for text in new_texts]\n",
    "predicted_labels = classifier.predict(new_embeddings)\n",
    "\n",
    "for text, label in zip(new_texts, predicted_labels):\n",
    "    sentiment = 'positive' if label == 1 else 'negative'\n",
    "    print(f\"Text: '{text}' - Sentiment: {sentiment}\")\n"
   ]
  },
  {
   "cell_type": "code",
   "execution_count": 11,
   "metadata": {},
   "outputs": [
    {
     "name": "stdout",
     "output_type": "stream",
     "text": [
      "Embeddings and Labels:\n",
      "Label: 1, Embedding: [-0.02184968814253807, -0.02521532215178013, -0.005586950574070215, -0.0334678553044796, 0.007828461937606335]...\n",
      "Label: 1, Embedding: [-0.01700989156961441, -0.024246729910373688, -0.009135679341852665, -0.0009535697172395885, -0.0037312875501811504]...\n",
      "Label: 1, Embedding: [0.01686893217265606, 0.005502017680555582, 0.009441371075809002, -0.007303331978619099, 0.012377087958157063]...\n",
      "Label: 1, Embedding: [-0.01049409806728363, -0.0019858062732964754, 0.012321686372160912, -0.015873534604907036, 0.010074334219098091]...\n",
      "Label: 0, Embedding: [-0.027968741953372955, -0.0058114295825362206, -0.02613494172692299, -0.008957913145422935, -0.004756005480885506]...\n",
      "Label: 0, Embedding: [-0.02066449075937271, -0.014167794026434422, 0.010794510133564472, -0.02041461691260338, -0.03453243523836136]...\n",
      "Label: 0, Embedding: [-0.029232149943709373, 2.1115254639880732e-05, 0.010463926941156387, -0.012578565627336502, -0.03162316977977753]...\n",
      "Label: 0, Embedding: [-0.00999593548476696, 0.0008210120140574872, -0.010901651345193386, -0.002130416687577963, -0.016355782747268677]...\n",
      "Label: 1, Embedding: [-0.014054128900170326, 0.014714566990733147, 0.0004841838963329792, -0.033206842839717865, -0.01682797074317932]...\n",
      "Label: 1, Embedding: [-0.0072393957525491714, -0.0026253475807607174, -0.0027434881776571274, -0.03956398740410805, -0.026463503018021584]...\n",
      "Label: 1, Embedding: [-0.021645793691277504, -0.025293808430433273, -0.004102335311472416, -0.03882243111729622, 0.005865767598152161]...\n",
      "Label: 1, Embedding: [-0.014178229495882988, -0.02919047325849533, -0.0033784061670303345, 0.004727162420749664, -0.00824239943176508]...\n",
      "Label: 1, Embedding: [0.018890002742409706, 0.00910082459449768, 0.014005342498421669, -0.012641873210668564, 0.006962958723306656]...\n",
      "Label: 1, Embedding: [-0.007758685387670994, -0.006143651902675629, 0.010388416238129139, -0.022643093019723892, -0.0026313625276088715]...\n",
      "Label: 0, Embedding: [-0.020751070231199265, -0.005881928838789463, -0.010751119814813137, -0.011763857677578926, -0.011019394733011723]...\n",
      "Label: 0, Embedding: [-0.01928670145571232, -0.005909610074013472, 0.02401181310415268, -0.019518449902534485, -0.010151911526918411]...\n",
      "Label: 0, Embedding: [-0.011630438268184662, -0.004180919378995895, 0.014478976838290691, -0.01730126142501831, -0.01920466311275959]...\n",
      "Label: 0, Embedding: [-0.0031543131917715073, 0.0022165444679558277, -0.010492518544197083, -0.011194204911589622, -0.021037498489022255]...\n",
      "Label: 1, Embedding: [-0.00800405628979206, 0.01445014588534832, -0.00120823597535491, -0.0359371080994606, -0.01412556879222393]...\n",
      "Label: 1, Embedding: [-0.009851626120507717, -0.00315926899202168, 0.012994354590773582, -0.03448399901390076, -0.01890929974615574]...\n",
      "Label: 1, Embedding: [-0.009226713329553604, -0.023312466219067574, 0.0007289410568773746, -0.04411351680755615, 0.00504671223461628]...\n",
      "Label: 1, Embedding: [-0.004800790920853615, -0.01824105530977249, -0.0037411716766655445, -0.011096750386059284, 0.005402109120041132]...\n",
      "Label: 1, Embedding: [0.012081718072295189, 0.00406337296590209, 0.01362560223788023, -0.00996626727283001, 0.010564112104475498]...\n",
      "Label: 1, Embedding: [-0.010103357024490833, -0.01193446945399046, -0.0036364346742630005, -0.023856043815612793, 0.005012992769479752]...\n",
      "Label: 0, Embedding: [-0.021575968712568283, -0.01695636287331581, -0.0072832247242331505, -0.01552775502204895, -0.012310052290558815]...\n",
      "Label: 0, Embedding: [-0.013241547159850597, -0.012391052208840847, 0.0035655349493026733, -0.012005058117210865, -0.01524347998201847]...\n",
      "Label: 0, Embedding: [-0.027582041919231415, 0.004184426739811897, 0.020082592964172363, -0.01963130012154579, -0.02978541888296604]...\n",
      "Label: 0, Embedding: [-0.012516364455223083, 0.004033868666738272, -0.015386231243610382, -0.005880216136574745, -0.019935203716158867]...\n",
      "Label: 1, Embedding: [-0.026214540004730225, 0.004255776759237051, -0.0018467848422005773, -0.028450293466448784, -0.013819834217429161]...\n",
      "Label: 1, Embedding: [-0.009492810815572739, -0.004099168349057436, -0.0021738014183938503, -0.02449040487408638, -0.03161654993891716]...\n"
     ]
    }
   ],
   "source": [
    "# Print embeddings and labels for inspection\n",
    "print(\"Embeddings and Labels:\")\n",
    "for emb, label in zip(embeddings, augmented_labels):\n",
    "    print(f\"Label: {label}, Embedding: {emb[:5]}...\")"
   ]
  },
  {
   "cell_type": "markdown",
   "metadata": {},
   "source": []
  }
 ],
 "metadata": {
  "kernelspec": {
   "display_name": "Python 3",
   "language": "python",
   "name": "python3"
  },
  "language_info": {
   "codemirror_mode": {
    "name": "ipython",
    "version": 3
   },
   "file_extension": ".py",
   "mimetype": "text/x-python",
   "name": "python",
   "nbconvert_exporter": "python",
   "pygments_lexer": "ipython3",
   "version": "3.11.9"
  }
 },
 "nbformat": 4,
 "nbformat_minor": 2
}
