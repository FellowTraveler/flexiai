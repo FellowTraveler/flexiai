{
 "cells": [
  {
   "cell_type": "code",
   "execution_count": 1,
   "metadata": {},
   "outputs": [
    {
     "name": "stdout",
     "output_type": "stream",
     "text": [
      "Current Directory: /home/razvansavin/Proiecte/flexiai/examples/Code examples\n",
      "Changed Directory to: /home/razvansavin/Proiecte/flexiai\n",
      "Project root added to sys.path\n"
     ]
    }
   ],
   "source": [
    "import sys\n",
    "import os\n",
    "\n",
    "# Check current working directory\n",
    "current_dir = os.getcwd()\n",
    "print(f\"Current Directory: {current_dir}\")\n",
    "\n",
    "# Change to your project root directory\n",
    "project_root = '/home/razvansavin/Proiecte/flexiai'\n",
    "os.chdir(project_root)\n",
    "print(f\"Changed Directory to: {os.getcwd()}\")\n",
    "\n",
    "# Add project root directory to sys.path\n",
    "sys.path.append(project_root)\n",
    "print(f\"Project root added to sys.path\")"
   ]
  },
  {
   "cell_type": "code",
   "execution_count": 2,
   "metadata": {},
   "outputs": [],
   "source": [
    "from flexiai.core.flexi_managers.audio_manager import SpeechToTextManager, TextToSpeechManager, AudioTranscriptionManager, AudioTranslationManager\n",
    "from flexiai.core.flexiai_client import FlexiAI\n",
    "from flexiai.config.logging_config import setup_logging\n",
    "\n",
    "# Set up logging\n",
    "setup_logging()\n",
    "\n",
    "# Initialize FlexiAI\n",
    "flexiai = FlexiAI()"
   ]
  },
  {
   "cell_type": "code",
   "execution_count": 3,
   "metadata": {},
   "outputs": [],
   "source": [
    "# Cell 1: Initialize the SpeechToTextManager\n",
    "client = flexiai.client\n",
    "logger = flexiai.logger\n",
    "speech_to_text_manager = SpeechToTextManager(client, logger)\n"
   ]
  },
  {
   "cell_type": "code",
   "execution_count": 4,
   "metadata": {},
   "outputs": [
    {
     "name": "stdout",
     "output_type": "stream",
     "text": [
      "Transcribed text: Under lights, city nights, rhythm in our veins Feel the bass, past the trace, shakin' off the chains Every turn, senses burn, when the conch is high Steppin' close, heart exposed, in the deep of night To do the change, love entered the name She lied for men, it felt filthy ain't To do the spy, and it's changed her war A waste of cheese, to run off these floors I cannot help you be the way It's ever good to hurt an enemy It's so bad to feel chance goodbye But when I look to beyond the light Feel the groove, let it move, now we're breakin' free Electric vibe, rhythm tribe, come along with me Floating high, touch the sky Let the beat unfold In this dance, take a chance Let the music hold In the haste, timeless days, love at every beat Soul to soul, make us whole in this midnight heat Hear the sound, all around, voices in the air Hand in hand, we will stand up beyond compare Let it flow, let it show, our hearts intertwine Gentle sway, night and day, wherever you'll be mine Under stars, near and far, our love story told In this dance, romance, let the night unfold\n"
     ]
    }
   ],
   "source": [
    "# Cell 2: Test transcribe_audio method\n",
    "audio_file_path = \"user_flexiai_rag/data/audio/Travelers_of_the_Cosmos_by_IRS.mp3\"  # Replace with a valid audio file path\n",
    "try:\n",
    "    transcribed_text = speech_to_text_manager.transcribe_audio(audio_file_path, language=\"en\")\n",
    "    print(\"Transcribed text:\", transcribed_text)\n",
    "except Exception as e:\n",
    "    print(f\"Error during transcription: {e}\")"
   ]
  },
  {
   "cell_type": "code",
   "execution_count": 5,
   "metadata": {},
   "outputs": [],
   "source": [
    "# Cell 3: Initialize the TextToSpeechManager\n",
    "text_to_speech_manager = TextToSpeechManager(client, logger)"
   ]
  },
  {
   "cell_type": "code",
   "execution_count": 6,
   "metadata": {},
   "outputs": [
    {
     "name": "stdout",
     "output_type": "stream",
     "text": [
      "TTS audio created successfully and saved to user_flexiai_rag/data/audio/output.mp3\n"
     ]
    }
   ],
   "source": [
    "# Cell 4: Test synthesize_speech method\n",
    "text = \"Salut, acesta este un test de functionalitate.\"\n",
    "output_file = \"user_flexiai_rag/data/audio/output.mp3\"\n",
    "try:\n",
    "    text_to_speech_manager.synthesize_speech(text, output_file=output_file)\n",
    "    print(f\"TTS audio created successfully and saved to {output_file}\")\n",
    "except Exception as e:\n",
    "    print(f\"Error during TTS synthesis: {e}\")"
   ]
  },
  {
   "cell_type": "code",
   "execution_count": 7,
   "metadata": {},
   "outputs": [],
   "source": [
    "# Cell 5: Initialize the AudioTranscriptionManager\n",
    "audio_transcription_manager = AudioTranscriptionManager(client, logger)"
   ]
  },
  {
   "cell_type": "code",
   "execution_count": 8,
   "metadata": {},
   "outputs": [
    {
     "name": "stdout",
     "output_type": "stream",
     "text": [
      "Formatted transcription: Under lights, city nights, rhythm in our veins Feel the bass, past the trace, shakin' off the chains Every turn, senses burn, when the conch is high Steppin' close, heart exposed, in the deep of night To do the change, love entered the name She lied for men, it felt filthy ain't To do the spy, and it's changed her war A waste of cheese, to run off these floors I cannot help you be the way It's ever good to hurt an enemy It's so bad to feel chance goodbye But when I look to beyond the light Feel the groove, let it move, now we're breakin' free Electric vibe, rhythm tribe, come along with me Floating high, touch the sky Let the beat unfold In this dance, take a chance Let the music hold In the haste, timeless days, love at every beat Soul to soul, make us whole in this midnight heat Hear the sound, all around, voices in the air Hand in hand, we will stand up beyond compare Let it flow, let it show, our hearts intertwine Gentle sway, night and day, wherever you'll be mine Under stars, near and far, our love story told In this dance, romance, let the night unfold\n"
     ]
    }
   ],
   "source": [
    "# Cell 6: Test transcribe_and_format method\n",
    "try:\n",
    "    formatted_transcription = audio_transcription_manager.transcribe_and_format(audio_file_path, language=\"en\")\n",
    "    print(\"Formatted transcription:\", formatted_transcription)\n",
    "except Exception as e:\n",
    "    print(f\"Error during transcription and formatting: {e}\")"
   ]
  },
  {
   "cell_type": "code",
   "execution_count": 9,
   "metadata": {},
   "outputs": [],
   "source": [
    "# Cell 7: Initialize the AudioTranslationManager\n",
    "audio_translation_manager = AudioTranslationManager(client, logger)"
   ]
  },
  {
   "cell_type": "code",
   "execution_count": 10,
   "metadata": {},
   "outputs": [
    {
     "name": "stdout",
     "output_type": "stream",
     "text": [
      "Translated text: Hello, this is a functionality test.\n"
     ]
    }
   ],
   "source": [
    "# Cell 8: Test translate_audio method\n",
    "audio_file_path = 'user_flexiai_rag/data/audio/output.mp3' # The output is in Romanian and translation in English\n",
    "try:\n",
    "    translated_text = audio_translation_manager.translate_audio(audio_file_path)\n",
    "    print(\"Translated text:\", translated_text)\n",
    "except Exception as e:\n",
    "    print(f\"Error during translation: {e}\")"
   ]
  }
 ],
 "metadata": {
  "kernelspec": {
   "display_name": "Python 3",
   "language": "python",
   "name": "python3"
  },
  "language_info": {
   "codemirror_mode": {
    "name": "ipython",
    "version": 3
   },
   "file_extension": ".py",
   "mimetype": "text/x-python",
   "name": "python",
   "nbconvert_exporter": "python",
   "pygments_lexer": "ipython3",
   "version": "3.11.9"
  }
 },
 "nbformat": 4,
 "nbformat_minor": 2
}
