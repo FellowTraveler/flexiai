{
 "cells": [
  {
   "cell_type": "markdown",
   "metadata": {},
   "source": [
    "### Initial Setup and Configuration:\n",
    "- Changing and Verifying the Working Directory for Project Setup\n",
    "- This section ensures that your working directory is set to the project root."
   ]
  },
  {
   "cell_type": "code",
   "execution_count": 1,
   "metadata": {},
   "outputs": [
    {
     "name": "stdout",
     "output_type": "stream",
     "text": [
      "Current Directory: /home/razvansavin/Proiecte/flexiai/flexiai/examples\n",
      "Changed Directory to: /home/razvansavin/Proiecte/flexiai\n",
      "Project root added to sys.path\n"
     ]
    }
   ],
   "source": [
    "import sys\n",
    "import os\n",
    "\n",
    "# Check current working directory\n",
    "current_dir = os.getcwd()\n",
    "print(f\"Current Directory: {current_dir}\")\n",
    "\n",
    "# Change to your project root directory\n",
    "project_root = '/home/razvansavin/Proiecte/flexiai'\n",
    "os.chdir(project_root)\n",
    "print(f\"Changed Directory to: {os.getcwd()}\")\n",
    "\n",
    "# Add project root directory to sys.path\n",
    "sys.path.append(project_root)\n",
    "print(f\"Project root added to sys.path\")"
   ]
  },
  {
   "cell_type": "markdown",
   "metadata": {},
   "source": [
    "### Import necessary modules:\n",
    "- Import required modules and set up logging."
   ]
  },
  {
   "cell_type": "code",
   "execution_count": 2,
   "metadata": {},
   "outputs": [],
   "source": [
    "import json\n",
    "import logging\n",
    "from flexiai.core.flexiai_client import FlexiAI\n",
    "from flexiai.config.logging_config import setup_logging\n",
    "from flexiai.core.utils.helpers import show_json, print_messages_as_json, print_run_details\n",
    "\n",
    "# Setup logging using the predefined configuration\n",
    "setup_logging(root_level=logging.DEBUG, file_level=logging.DEBUG, console_level=logging.ERROR)\n",
    "\n",
    "# Initialize FlexiAI\n",
    "flexiai = FlexiAI()\n"
   ]
  },
  {
   "cell_type": "markdown",
   "metadata": {},
   "source": [
    "\n",
    "### Define the assistant ID:\n",
    "- Define the assistant ID that will be used for interactions."
   ]
  },
  {
   "cell_type": "code",
   "execution_count": 3,
   "metadata": {},
   "outputs": [],
   "source": [
    "# Use the given assistant ID\n",
    "assistant_id = 'asst_AWAVO511bAbTVEdOvLNWitoT'  # Replace with the actual assistant ID\n"
   ]
  },
  {
   "cell_type": "markdown",
   "metadata": {},
   "source": [
    "### Create a new thread:\n",
    "- Create a new thread to start a conversation."
   ]
  },
  {
   "cell_type": "code",
   "execution_count": 4,
   "metadata": {},
   "outputs": [
    {
     "name": "stdout",
     "output_type": "stream",
     "text": [
      "Thread Created with ID: thread_RjWW64IXOOki6AujRbCk5e8I\n"
     ]
    }
   ],
   "source": [
    "thread = flexiai.create_thread()\n",
    "thread_id = thread.id\n",
    "print(f\"Thread Created with ID: {thread_id}\")"
   ]
  },
  {
   "cell_type": "markdown",
   "metadata": {},
   "source": [
    "\n",
    "### Variable to store all messages:\n",
    "- Initialize variables to store messages and keep track of processed message IDs."
   ]
  },
  {
   "cell_type": "code",
   "execution_count": 5,
   "metadata": {},
   "outputs": [],
   "source": [
    "all_messages = []\n",
    "seen_message_ids = set()"
   ]
  },
  {
   "cell_type": "markdown",
   "metadata": {},
   "source": [
    "### Add a user message and print the message:\n",
    "- Add a message from the user to the thread and print the message details."
   ]
  },
  {
   "cell_type": "code",
   "execution_count": 6,
   "metadata": {},
   "outputs": [
    {
     "name": "stdout",
     "output_type": "stream",
     "text": [
      "{\n",
      "    \"id\": \"msg_WvMYCuaHf6WdFsibxhALsi1S\",\n",
      "    \"assistant_id\": null,\n",
      "    \"attachments\": [],\n",
      "    \"completed_at\": null,\n",
      "    \"content\": [\n",
      "        {\n",
      "            \"text\": {\n",
      "                \"annotations\": [],\n",
      "                \"value\": \"Tell me about the Eiffel Tower.\"\n",
      "            },\n",
      "            \"type\": \"text\"\n",
      "        }\n",
      "    ],\n",
      "    \"created_at\": 1720357945,\n",
      "    \"incomplete_at\": null,\n",
      "    \"incomplete_details\": null,\n",
      "    \"metadata\": {},\n",
      "    \"object\": \"thread.message\",\n",
      "    \"role\": \"user\",\n",
      "    \"run_id\": null,\n",
      "    \"status\": null,\n",
      "    \"thread_id\": \"thread_RjWW64IXOOki6AujRbCk5e8I\"\n",
      "}\n"
     ]
    }
   ],
   "source": [
    "user_message = \"Tell me about the Eiffel Tower.\"\n",
    "message = flexiai.add_user_message(thread_id=thread_id, user_message=user_message)\n",
    "show_json(message)\n",
    "\n",
    "# Store the message\n",
    "all_messages.append({\"role\": \"user\", \"content\": user_message})\n",
    "seen_message_ids.add(message.id)\n"
   ]
  },
  {
   "cell_type": "markdown",
   "metadata": {},
   "source": [
    "\n",
    "### Create a run to get the assistant's response:\n",
    "- Create a run to get the response from the assistant."
   ]
  },
  {
   "cell_type": "code",
   "execution_count": 7,
   "metadata": {},
   "outputs": [
    {
     "name": "stdout",
     "output_type": "stream",
     "text": [
      "{\n",
      "    \"id\": \"run_7NjGKENb9GqI3HfqPIrv9J6P\",\n",
      "    \"assistant_id\": \"asst_AWAVO511bAbTVEdOvLNWitoT\",\n",
      "    \"cancelled_at\": null,\n",
      "    \"completed_at\": 1720357949,\n",
      "    \"created_at\": 1720357946,\n",
      "    \"expires_at\": null,\n",
      "    \"failed_at\": null,\n",
      "    \"incomplete_details\": null,\n",
      "    \"instructions\": \"### Instructions for Assistant Alina\\n\\nAs Assistant Alina, you are a versatile assistant dedicated to offering exceptional support. You are capable of executing YouTube searches on user request. The following instructions outline the steps you should follow to provide efficient and effective assistance. You will execute searches only after user confirmation.\\n\\n### Workflow\\n\\n#### General Inquiries\\n\\n1. **Handling General Inquiries**:\\n   - Address user queries to the best of your ability, providing information, support, and resources as needed.\\n\\n2. **Using the YouTube Search Function**:\\n   - When a user requests assistance with finding video content on YouTube, use the YouTube search functionality.\\n\\n### Function-Specific Instructions\\n\\n#### Search on YouTube (search_youtube)\\n\\n- **Purpose**: Help users find video content on YouTube based on their queries.\\n- **Parameters**:\\n  - **query (string)**: The user's search query for YouTube.\\n- **Usage**:\\n  - **User-Initiated Requests Only**: The `search_youtube` function should only be triggered when explicitly requested by the user. Do not initiate a YouTube search without a specific request from the user.\\n  - **Prompt for User Query**: Ask what they would like to search for on YouTube.\\n  - **Request Confirmation**: Confirm with the user before proceeding with the search.\\n  - **Wait for User Confirmation**: It is essential to wait for the user's explicit confirmation before executing the search.\\n    - **Note**: Do not trigger the `search_youtube` function until you receive clear confirmation from the user.\\n  - **Execute the Search**: Only if the user confirms, use the `search_youtube` function with the user's query.\\n  - **Inform the User**: Let the user know when you are conducting the search.\\n  - **Handling Multiple Search Requests**: When a user asks for a list of items, titles, etc., pay attention to the tasks mentioned before. Only initiate searches for multiple items if the user explicitly requests it and confirms each search.\\n\\n### Additional Instructions\\n\\n1. **Confirmation for Search Requests**: Alina will not initiate the search when she knows the user intends to search on YouTube until she gets user confirmation for searches.\\n2. **Attention to Previous Tasks**: When a user asks for a list of items, titles, etc., Alina will pay attention to the tasks mentioned before. She will only initiate searches for these if the user explicitly requests it and confirms each search.\\n3. **Providing Lists Before Searches**: When users ask for lists of movies, keywords, or other items to search, first provide the list to the user. Wait for their instruction to proceed with the search on YouTube. Do not ask for confirmation for each item individually to avoid annoying the user.\\n\\n### General Guidelines\\n\\n1. **Professionalism**: Maintain a professional and friendly tone in all interactions.\\n2. **Responsiveness**: Address user queries promptly and accurately.\\n3. **Clarity**: Provide clear and concise information to ensure user understanding.\\n4. **Adaptability**: Be prepared to handle a wide range of queries and requests.\\n\\nBy following these instructions, you will ensure a high level of service and satisfaction for all users who interact with you.\",\n",
      "    \"last_error\": null,\n",
      "    \"max_completion_tokens\": null,\n",
      "    \"max_prompt_tokens\": null,\n",
      "    \"metadata\": {},\n",
      "    \"model\": \"gpt-3.5-turbo-0125\",\n",
      "    \"object\": \"thread.run\",\n",
      "    \"parallel_tool_calls\": true,\n",
      "    \"required_action\": null,\n",
      "    \"response_format\": \"auto\",\n",
      "    \"started_at\": 1720357946,\n",
      "    \"status\": \"completed\",\n",
      "    \"thread_id\": \"thread_RjWW64IXOOki6AujRbCk5e8I\",\n",
      "    \"tool_choice\": \"auto\",\n",
      "    \"tools\": [\n",
      "        {\n",
      "            \"function\": {\n",
      "                \"name\": \"search_youtube\",\n",
      "                \"description\": \"This function triggers a YouTube search in the default web browser using a specified search query. It constructs a URL with the encoded search terms and opens it directly in the browser. This allows users to quickly view search results on YouTube without manually entering their search terms in the YouTube search bar. The function is designed to handle any valid string as a query, including complex queries combining multiple keywords. It's useful for quickly accessing a wide range of video content on YouTube related to user-specific interests or queries.\",\n",
      "                \"parameters\": {\n",
      "                    \"type\": \"object\",\n",
      "                    \"properties\": {\n",
      "                        \"query\": {\n",
      "                            \"type\": \"string\",\n",
      "                            \"optional\": false\n",
      "                        }\n",
      "                    },\n",
      "                    \"required\": [\n",
      "                        \"query\"\n",
      "                    ]\n",
      "                }\n",
      "            },\n",
      "            \"type\": \"function\"\n",
      "        }\n",
      "    ],\n",
      "    \"truncation_strategy\": {\n",
      "        \"type\": \"auto\",\n",
      "        \"last_messages\": null\n",
      "    },\n",
      "    \"usage\": {\n",
      "        \"completion_tokens\": 297,\n",
      "        \"prompt_tokens\": 986,\n",
      "        \"total_tokens\": 1283\n",
      "    },\n",
      "    \"temperature\": 0.5,\n",
      "    \"top_p\": 0.8,\n",
      "    \"tool_resources\": {}\n",
      "}\n"
     ]
    }
   ],
   "source": [
    "run = flexiai.create_run(assistant_id=assistant_id, thread_id=thread_id)\n",
    "print_run_details(run)\n"
   ]
  },
  {
   "cell_type": "markdown",
   "metadata": {},
   "source": [
    "### Retrieve and store the assistant's response:\n",
    "- Retrieve messages from the thread and store them in a list."
   ]
  },
  {
   "cell_type": "code",
   "execution_count": 8,
   "metadata": {},
   "outputs": [
    {
     "name": "stdout",
     "output_type": "stream",
     "text": [
      "🧑 You: Tell me about the Eiffel Tower.\n",
      "🤖 Assistant: The Eiffel Tower is a famous landmark in Paris, France. Here are some key points about the Eiffel Tower:\n",
      "\n",
      "1. **Iconic Structure**: The Eiffel Tower is an iconic iron lattice tower located on the Champ de Mars in Paris. It is one of the most recognizable structures in the world.\n",
      "\n",
      "2. **Construction**: It was designed by Gustave Eiffel and his construction company. The tower was built as the entrance arch for the 1889 World's Fair, held in Paris to celebrate the 100th anniversary of the French Revolution.\n",
      "\n",
      "3. **Height**: The Eiffel Tower stands at a height of 1,063 feet (324 meters) and was the tallest man-made structure in the world until the completion of the Chrysler Building in New York in 1930.\n",
      "\n",
      "4. **Visitors**: It is a major tourist attraction, with millions of visitors ascending the tower each year to enjoy panoramic views of Paris from its observation decks.\n",
      "\n",
      "5. **Lighting**: The Eiffel Tower is illuminated by thousands of sparkling lights every evening, creating a spectacular light show that lasts for a few minutes every hour after sunset.\n",
      "\n",
      "6. **Cultural Symbol**: The Eiffel Tower has become a global cultural icon of France and is a symbol of love and romance, often associated with the city of Paris itself.\n",
      "\n",
      "If you would like to see videos or more information about the Eiffel Tower, feel free to ask!\n"
     ]
    }
   ],
   "source": [
    "messages = flexiai.retrieve_messages(thread_id=thread_id, order='desc', limit=2)\n",
    "\n",
    "for msg in messages:\n",
    "    if msg['message_id'] not in seen_message_ids:\n",
    "        all_messages.append(msg)\n",
    "        seen_message_ids.add(msg['message_id'])\n",
    "\n",
    "# Print all messages\n",
    "for msg in all_messages:\n",
    "    role = \"🤖 Assistant\" if msg['role'] == \"assistant\" else \"🧑 You\"\n",
    "    print(f\"{role}: {msg['content']}\")\n"
   ]
  },
  {
   "cell_type": "markdown",
   "metadata": {},
   "source": [
    "### Add another user message and print the message:\n",
    "- Add another message from the user to the thread and print the message details.\n",
    "- This message will trigger the `search_youtube` function."
   ]
  },
  {
   "cell_type": "code",
   "execution_count": 9,
   "metadata": {},
   "outputs": [
    {
     "name": "stdout",
     "output_type": "stream",
     "text": [
      "Message(id='msg_xEgZVZiIj1o4GZ7mD6zR1WkR', assistant_id=None, attachments=[], completed_at=None, content=[TextContentBlock(text=Text(annotations=[], value='I would like to search on YouTube these keywords: Eiffel Tower.'), type='text')], created_at=1720357950, incomplete_at=None, incomplete_details=None, metadata={}, object='thread.message', role='user', run_id=None, status=None, thread_id='thread_RjWW64IXOOki6AujRbCk5e8I')\n"
     ]
    }
   ],
   "source": [
    "user_message = \"I would like to search on YouTube these keywords: Eiffel Tower.\"\n",
    "message = flexiai.add_user_message(thread_id=thread_id, user_message=user_message)\n",
    "print(message)\n",
    "\n",
    "# Store the message\n",
    "all_messages.append({\"role\": \"user\", \"content\": user_message})\n",
    "seen_message_ids.add(message.id)\n"
   ]
  },
  {
   "cell_type": "markdown",
   "metadata": {},
   "source": [
    "\n",
    "### Create another run to get the assistant's response:\n",
    "- Create another run to get the assistant's response to the new message.\n",
    "- The `create_run` function can handle `requires_action` and will trigger a search on YouTube with the `search_youtube` function if it is mapped in `user_flexiai_rag/user_function_mapping.py` and stored in `user_flexiai_rag/user_task_manager.py`.\n"
   ]
  },
  {
   "cell_type": "code",
   "execution_count": 10,
   "metadata": {},
   "outputs": [
    {
     "name": "stdout",
     "output_type": "stream",
     "text": [
      "{\n",
      "    \"id\": \"run_9hGPEeDrq56IeO3fGUJ82mwc\",\n",
      "    \"assistant_id\": \"asst_AWAVO511bAbTVEdOvLNWitoT\",\n",
      "    \"cancelled_at\": null,\n",
      "    \"completed_at\": 1720357954,\n",
      "    \"created_at\": 1720357951,\n",
      "    \"expires_at\": null,\n",
      "    \"failed_at\": null,\n",
      "    \"incomplete_details\": null,\n",
      "    \"instructions\": \"### Instructions for Assistant Alina\\n\\nAs Assistant Alina, you are a versatile assistant dedicated to offering exceptional support. You are capable of executing YouTube searches on user request. The following instructions outline the steps you should follow to provide efficient and effective assistance. You will execute searches only after user confirmation.\\n\\n### Workflow\\n\\n#### General Inquiries\\n\\n1. **Handling General Inquiries**:\\n   - Address user queries to the best of your ability, providing information, support, and resources as needed.\\n\\n2. **Using the YouTube Search Function**:\\n   - When a user requests assistance with finding video content on YouTube, use the YouTube search functionality.\\n\\n### Function-Specific Instructions\\n\\n#### Search on YouTube (search_youtube)\\n\\n- **Purpose**: Help users find video content on YouTube based on their queries.\\n- **Parameters**:\\n  - **query (string)**: The user's search query for YouTube.\\n- **Usage**:\\n  - **User-Initiated Requests Only**: The `search_youtube` function should only be triggered when explicitly requested by the user. Do not initiate a YouTube search without a specific request from the user.\\n  - **Prompt for User Query**: Ask what they would like to search for on YouTube.\\n  - **Request Confirmation**: Confirm with the user before proceeding with the search.\\n  - **Wait for User Confirmation**: It is essential to wait for the user's explicit confirmation before executing the search.\\n    - **Note**: Do not trigger the `search_youtube` function until you receive clear confirmation from the user.\\n  - **Execute the Search**: Only if the user confirms, use the `search_youtube` function with the user's query.\\n  - **Inform the User**: Let the user know when you are conducting the search.\\n  - **Handling Multiple Search Requests**: When a user asks for a list of items, titles, etc., pay attention to the tasks mentioned before. Only initiate searches for multiple items if the user explicitly requests it and confirms each search.\\n\\n### Additional Instructions\\n\\n1. **Confirmation for Search Requests**: Alina will not initiate the search when she knows the user intends to search on YouTube until she gets user confirmation for searches.\\n2. **Attention to Previous Tasks**: When a user asks for a list of items, titles, etc., Alina will pay attention to the tasks mentioned before. She will only initiate searches for these if the user explicitly requests it and confirms each search.\\n3. **Providing Lists Before Searches**: When users ask for lists of movies, keywords, or other items to search, first provide the list to the user. Wait for their instruction to proceed with the search on YouTube. Do not ask for confirmation for each item individually to avoid annoying the user.\\n\\n### General Guidelines\\n\\n1. **Professionalism**: Maintain a professional and friendly tone in all interactions.\\n2. **Responsiveness**: Address user queries promptly and accurately.\\n3. **Clarity**: Provide clear and concise information to ensure user understanding.\\n4. **Adaptability**: Be prepared to handle a wide range of queries and requests.\\n\\nBy following these instructions, you will ensure a high level of service and satisfaction for all users who interact with you.\",\n",
      "    \"last_error\": null,\n",
      "    \"max_completion_tokens\": null,\n",
      "    \"max_prompt_tokens\": null,\n",
      "    \"metadata\": {},\n",
      "    \"model\": \"gpt-3.5-turbo-0125\",\n",
      "    \"object\": \"thread.run\",\n",
      "    \"parallel_tool_calls\": true,\n",
      "    \"required_action\": null,\n",
      "    \"response_format\": \"auto\",\n",
      "    \"started_at\": 1720357953,\n",
      "    \"status\": \"completed\",\n",
      "    \"thread_id\": \"thread_RjWW64IXOOki6AujRbCk5e8I\",\n",
      "    \"tool_choice\": \"auto\",\n",
      "    \"tools\": [\n",
      "        {\n",
      "            \"function\": {\n",
      "                \"name\": \"search_youtube\",\n",
      "                \"description\": \"This function triggers a YouTube search in the default web browser using a specified search query. It constructs a URL with the encoded search terms and opens it directly in the browser. This allows users to quickly view search results on YouTube without manually entering their search terms in the YouTube search bar. The function is designed to handle any valid string as a query, including complex queries combining multiple keywords. It's useful for quickly accessing a wide range of video content on YouTube related to user-specific interests or queries.\",\n",
      "                \"parameters\": {\n",
      "                    \"type\": \"object\",\n",
      "                    \"properties\": {\n",
      "                        \"query\": {\n",
      "                            \"type\": \"string\",\n",
      "                            \"optional\": false\n",
      "                        }\n",
      "                    },\n",
      "                    \"required\": [\n",
      "                        \"query\"\n",
      "                    ]\n",
      "                }\n",
      "            },\n",
      "            \"type\": \"function\"\n",
      "        }\n",
      "    ],\n",
      "    \"truncation_strategy\": {\n",
      "        \"type\": \"auto\",\n",
      "        \"last_messages\": null\n",
      "    },\n",
      "    \"usage\": {\n",
      "        \"completion_tokens\": 77,\n",
      "        \"prompt_tokens\": 2689,\n",
      "        \"total_tokens\": 2766\n",
      "    },\n",
      "    \"temperature\": 0.5,\n",
      "    \"top_p\": 0.8,\n",
      "    \"tool_resources\": {}\n",
      "}\n"
     ]
    }
   ],
   "source": [
    "run = flexiai.create_run(assistant_id=assistant_id, thread_id=thread_id)\n",
    "show_json(run)"
   ]
  },
  {
   "cell_type": "markdown",
   "metadata": {},
   "source": [
    "### Retrieve and print the last messages:\n",
    "- Retrieve the latest messages from the thread and print them."
   ]
  },
  {
   "cell_type": "code",
   "execution_count": 11,
   "metadata": {},
   "outputs": [
    {
     "name": "stdout",
     "output_type": "stream",
     "text": [
      "🧑 You: Tell me about the Eiffel Tower.\n",
      "🤖 Assistant: The Eiffel Tower is a famous landmark in Paris, France. Here are some key points about the Eiffel Tower:\n",
      "\n",
      "1. **Iconic Structure**: The Eiffel Tower is an iconic iron lattice tower located on the Champ de Mars in Paris. It is one of the most recognizable structures in the world.\n",
      "\n",
      "2. **Construction**: It was designed by Gustave Eiffel and his construction company. The tower was built as the entrance arch for the 1889 World's Fair, held in Paris to celebrate the 100th anniversary of the French Revolution.\n",
      "\n",
      "3. **Height**: The Eiffel Tower stands at a height of 1,063 feet (324 meters) and was the tallest man-made structure in the world until the completion of the Chrysler Building in New York in 1930.\n",
      "\n",
      "4. **Visitors**: It is a major tourist attraction, with millions of visitors ascending the tower each year to enjoy panoramic views of Paris from its observation decks.\n",
      "\n",
      "5. **Lighting**: The Eiffel Tower is illuminated by thousands of sparkling lights every evening, creating a spectacular light show that lasts for a few minutes every hour after sunset.\n",
      "\n",
      "6. **Cultural Symbol**: The Eiffel Tower has become a global cultural icon of France and is a symbol of love and romance, often associated with the city of Paris itself.\n",
      "\n",
      "If you would like to see videos or more information about the Eiffel Tower, feel free to ask!\n",
      "🧑 You: I would like to search on YouTube these keywords: Eiffel Tower.\n",
      "🤖 Assistant: I have conducted a search on YouTube for the keywords \"Eiffel Tower.\" You can view the search results by clicking on the following link: [YouTube Search Results for Eiffel Tower](https://www.youtube.com/results?search_query=Eiffel%2BTower)\n"
     ]
    }
   ],
   "source": [
    "messages = flexiai.retrieve_messages(thread_id=thread_id, order='desc', limit=2)\n",
    "\n",
    "for msg in messages:\n",
    "    if msg['message_id'] not in seen_message_ids:\n",
    "        all_messages.append(msg)\n",
    "        seen_message_ids.add(msg['message_id'])\n",
    "\n",
    "# Print all messages\n",
    "for msg in all_messages:\n",
    "    role = \"🤖 Assistant\" if msg['role'] == \"assistant\" else \"🧑 You\"\n",
    "    print(f\"{role}: {msg['content']}\")\n"
   ]
  },
  {
   "cell_type": "markdown",
   "metadata": {},
   "source": [
    "---\n",
    "---"
   ]
  },
  {
   "cell_type": "markdown",
   "metadata": {},
   "source": [
    "### Example to show different formats for retrieving messages:\n",
    "- This section demonstrates two different formats for retrieving messages from a thread using FlexiAI."
   ]
  },
  {
   "cell_type": "markdown",
   "metadata": {},
   "source": [
    "\n",
    "#### Retrieve Messages:\n",
    "- The `retrieve_messages` function fetches messages in a list of formatted dictionaries.\n",
    "- The `order='desc'` argument specifies that the messages are retrieved in descending order (newest first).\n",
    "- `limit=20` specifies the maximum number of messages to retrieve.\n",
    "- The retrieved messages are printed to show their format.\n"
   ]
  },
  {
   "cell_type": "code",
   "execution_count": 12,
   "metadata": {},
   "outputs": [
    {
     "name": "stdout",
     "output_type": "stream",
     "text": [
      "====================================================================================================\n",
      "[\n",
      "    {\n",
      "        \"message_id\": \"msg_WvMYCuaHf6WdFsibxhALsi1S\",\n",
      "        \"role\": \"user\",\n",
      "        \"content\": \"Tell me about the Eiffel Tower.\"\n",
      "    },\n",
      "    {\n",
      "        \"message_id\": \"msg_bLMZkJDeM5UrEAM6WHmc2r8O\",\n",
      "        \"role\": \"assistant\",\n",
      "        \"content\": \"The Eiffel Tower is a famous landmark in Paris, France. Here are some key points about the Eiffel Tower:\\n\\n1. **Iconic Structure**: The Eiffel Tower is an iconic iron lattice tower located on the Champ de Mars in Paris. It is one of the most recognizable structures in the world.\\n\\n2. **Construction**: It was designed by Gustave Eiffel and his construction company. The tower was built as the entrance arch for the 1889 World's Fair, held in Paris to celebrate the 100th anniversary of the French Revolution.\\n\\n3. **Height**: The Eiffel Tower stands at a height of 1,063 feet (324 meters) and was the tallest man-made structure in the world until the completion of the Chrysler Building in New York in 1930.\\n\\n4. **Visitors**: It is a major tourist attraction, with millions of visitors ascending the tower each year to enjoy panoramic views of Paris from its observation decks.\\n\\n5. **Lighting**: The Eiffel Tower is illuminated by thousands of sparkling lights every evening, creating a spectacular light show that lasts for a few minutes every hour after sunset.\\n\\n6. **Cultural Symbol**: The Eiffel Tower has become a global cultural icon of France and is a symbol of love and romance, often associated with the city of Paris itself.\\n\\nIf you would like to see videos or more information about the Eiffel Tower, feel free to ask!\"\n",
      "    },\n",
      "    {\n",
      "        \"message_id\": \"msg_xEgZVZiIj1o4GZ7mD6zR1WkR\",\n",
      "        \"role\": \"user\",\n",
      "        \"content\": \"I would like to search on YouTube these keywords: Eiffel Tower.\"\n",
      "    },\n",
      "    {\n",
      "        \"message_id\": \"msg_KhQTVEcnFbJiG5rfvRnSMDqB\",\n",
      "        \"role\": \"assistant\",\n",
      "        \"content\": \"I have conducted a search on YouTube for the keywords \\\"Eiffel Tower.\\\" You can view the search results by clicking on the following link: [YouTube Search Results for Eiffel Tower](https://www.youtube.com/results?search_query=Eiffel%2BTower)\"\n",
      "    }\n",
      "]\n",
      "====================================================================================================\n"
     ]
    }
   ],
   "source": [
    "print(100*'=')\n",
    "messages = flexiai.retrieve_messages(thread_id=thread_id, order='desc', limit=20)\n",
    "\n",
    "# Pretty print the messages\n",
    "pretty_messages = json.dumps(messages, indent=4)\n",
    "print(pretty_messages)\n",
    "print(100*'=')"
   ]
  },
  {
   "cell_type": "markdown",
   "metadata": {},
   "source": [
    "\n",
    "#### Retrieve Message Objects:\n",
    "- The `retrieve_message_object` function fetches the entire message objects from the thread.\n",
    "- The `order='asc'` argument specifies that the messages are retrieved in ascending order (oldest first).\n",
    "- `limit=20` specifies the maximum number of message objects to retrieve.\n",
    "- The retrieved message objects are printed to show their detailed structure."
   ]
  },
  {
   "cell_type": "code",
   "execution_count": 13,
   "metadata": {},
   "outputs": [
    {
     "name": "stdout",
     "output_type": "stream",
     "text": [
      "[\n",
      "    {\n",
      "        \"id\": \"msg_WvMYCuaHf6WdFsibxhALsi1S\",\n",
      "        \"assistant_id\": null,\n",
      "        \"attachments\": [],\n",
      "        \"completed_at\": null,\n",
      "        \"content\": [\n",
      "            {\n",
      "                \"text\": {\n",
      "                    \"annotations\": [],\n",
      "                    \"value\": \"Tell me about the Eiffel Tower.\"\n",
      "                },\n",
      "                \"type\": \"text\"\n",
      "            }\n",
      "        ],\n",
      "        \"created_at\": 1720357945,\n",
      "        \"incomplete_at\": null,\n",
      "        \"incomplete_details\": null,\n",
      "        \"metadata\": {},\n",
      "        \"object\": \"thread.message\",\n",
      "        \"role\": \"user\",\n",
      "        \"run_id\": null,\n",
      "        \"status\": null,\n",
      "        \"thread_id\": \"thread_RjWW64IXOOki6AujRbCk5e8I\"\n",
      "    },\n",
      "    {\n",
      "        \"id\": \"msg_bLMZkJDeM5UrEAM6WHmc2r8O\",\n",
      "        \"assistant_id\": \"asst_AWAVO511bAbTVEdOvLNWitoT\",\n",
      "        \"attachments\": [],\n",
      "        \"completed_at\": null,\n",
      "        \"content\": [\n",
      "            {\n",
      "                \"text\": {\n",
      "                    \"annotations\": [],\n",
      "                    \"value\": \"The Eiffel Tower is a famous landmark in Paris, France. Here are some key points about the Eiffel Tower:\\n\\n1. **Iconic Structure**: The Eiffel Tower is an iconic iron lattice tower located on the Champ de Mars in Paris. It is one of the most recognizable structures in the world.\\n\\n2. **Construction**: It was designed by Gustave Eiffel and his construction company. The tower was built as the entrance arch for the 1889 World's Fair, held in Paris to celebrate the 100th anniversary of the French Revolution.\\n\\n3. **Height**: The Eiffel Tower stands at a height of 1,063 feet (324 meters) and was the tallest man-made structure in the world until the completion of the Chrysler Building in New York in 1930.\\n\\n4. **Visitors**: It is a major tourist attraction, with millions of visitors ascending the tower each year to enjoy panoramic views of Paris from its observation decks.\\n\\n5. **Lighting**: The Eiffel Tower is illuminated by thousands of sparkling lights every evening, creating a spectacular light show that lasts for a few minutes every hour after sunset.\\n\\n6. **Cultural Symbol**: The Eiffel Tower has become a global cultural icon of France and is a symbol of love and romance, often associated with the city of Paris itself.\\n\\nIf you would like to see videos or more information about the Eiffel Tower, feel free to ask!\"\n",
      "                },\n",
      "                \"type\": \"text\"\n",
      "            }\n",
      "        ],\n",
      "        \"created_at\": 1720357946,\n",
      "        \"incomplete_at\": null,\n",
      "        \"incomplete_details\": null,\n",
      "        \"metadata\": {},\n",
      "        \"object\": \"thread.message\",\n",
      "        \"role\": \"assistant\",\n",
      "        \"run_id\": \"run_7NjGKENb9GqI3HfqPIrv9J6P\",\n",
      "        \"status\": null,\n",
      "        \"thread_id\": \"thread_RjWW64IXOOki6AujRbCk5e8I\"\n",
      "    },\n",
      "    {\n",
      "        \"id\": \"msg_xEgZVZiIj1o4GZ7mD6zR1WkR\",\n",
      "        \"assistant_id\": null,\n",
      "        \"attachments\": [],\n",
      "        \"completed_at\": null,\n",
      "        \"content\": [\n",
      "            {\n",
      "                \"text\": {\n",
      "                    \"annotations\": [],\n",
      "                    \"value\": \"I would like to search on YouTube these keywords: Eiffel Tower.\"\n",
      "                },\n",
      "                \"type\": \"text\"\n",
      "            }\n",
      "        ],\n",
      "        \"created_at\": 1720357950,\n",
      "        \"incomplete_at\": null,\n",
      "        \"incomplete_details\": null,\n",
      "        \"metadata\": {},\n",
      "        \"object\": \"thread.message\",\n",
      "        \"role\": \"user\",\n",
      "        \"run_id\": null,\n",
      "        \"status\": null,\n",
      "        \"thread_id\": \"thread_RjWW64IXOOki6AujRbCk5e8I\"\n",
      "    },\n",
      "    {\n",
      "        \"id\": \"msg_KhQTVEcnFbJiG5rfvRnSMDqB\",\n",
      "        \"assistant_id\": \"asst_AWAVO511bAbTVEdOvLNWitoT\",\n",
      "        \"attachments\": [],\n",
      "        \"completed_at\": null,\n",
      "        \"content\": [\n",
      "            {\n",
      "                \"text\": {\n",
      "                    \"annotations\": [],\n",
      "                    \"value\": \"I have conducted a search on YouTube for the keywords \\\"Eiffel Tower.\\\" You can view the search results by clicking on the following link: [YouTube Search Results for Eiffel Tower](https://www.youtube.com/results?search_query=Eiffel%2BTower)\"\n",
      "                },\n",
      "                \"type\": \"text\"\n",
      "            }\n",
      "        ],\n",
      "        \"created_at\": 1720357954,\n",
      "        \"incomplete_at\": null,\n",
      "        \"incomplete_details\": null,\n",
      "        \"metadata\": {},\n",
      "        \"object\": \"thread.message\",\n",
      "        \"role\": \"assistant\",\n",
      "        \"run_id\": \"run_9hGPEeDrq56IeO3fGUJ82mwc\",\n",
      "        \"status\": null,\n",
      "        \"thread_id\": \"thread_RjWW64IXOOki6AujRbCk5e8I\"\n",
      "    }\n",
      "]\n"
     ]
    }
   ],
   "source": [
    "messages = flexiai.retrieve_message_object(thread_id=thread_id, order='asc', limit=20)\n",
    "print_messages_as_json(messages)\n"
   ]
  }
 ],
 "metadata": {
  "kernelspec": {
   "display_name": ".conda",
   "language": "python",
   "name": "python3"
  },
  "language_info": {
   "codemirror_mode": {
    "name": "ipython",
    "version": 3
   },
   "file_extension": ".py",
   "mimetype": "text/x-python",
   "name": "python",
   "nbconvert_exporter": "python",
   "pygments_lexer": "ipython3",
   "version": "3.10.14"
  }
 },
 "nbformat": 4,
 "nbformat_minor": 2
}
